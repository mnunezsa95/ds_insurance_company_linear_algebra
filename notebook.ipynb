{
 "cells": [
  {
   "cell_type": "markdown",
   "metadata": {},
   "source": [
    "# The Sure Tomorrow Insurance Company"
   ]
  },
  {
   "cell_type": "markdown",
   "metadata": {},
   "source": [
    "## Introduction"
   ]
  },
  {
   "cell_type": "markdown",
   "metadata": {},
   "source": [
    "In the realm of contemporary business, the Sure Tomorrow insurance company stands at the precipice of innovation, poised to leverage the capabilities of Machine Learning (ML) to address an array of challenges. Entrusted with the task of evaluating the feasibility of integrating ML into the company's operations, we embark on a journey that encompasses a spectrum of objectives aimed at optimizing processes and enriching customer experiences.\n",
    "\n",
    "- **Task 1:** The quest to identify customers akin to a specified profile emerges as a pivotal endeavor. Through the application of ML algorithms, Sure Tomorrow endeavors to equip its agents with targeted marketing strategies, thereby fostering heightened levels of customer engagement and retention.\n",
    "\n",
    "- **Task 2:** Anticipating a customer's likelihood to receive insurance benefits emerges as another critical facet. By deploying predictive models, the company aims to transcend conventional methodologies, probing the potential of a prediction model to surpass a rudimentary baseline.\n",
    "\n",
    "- **Task 3:** Envisioning the future extends to prognosticating the magnitude of insurance benefits a prospective customer may accrue. Here, the emphasis lies on harnessing linear regression models to provide insights into potential benefit outcomes, thereby refining decision-making processes.\n",
    "\n",
    "- **Task 4:** Amidst these endeavors lies a paramount concern - safeguarding the sanctity of clients' personal data. Enter data masking, or obfuscation, a delicate balance between privacy preservation and model fidelity. The challenge lies in devising an algorithm that shields sensitive information from unauthorized access while minimizing any deleterious effects on the efficacy of ML models.\n",
    "\n",
    "Embarking on this journey, the mission transcends mere algorithmic prowess; it embodies Sure Tomorrow's commitment to innovation, integrity, and the relentless pursuit of excellence in the realm of Machine Learning."
   ]
  },
  {
   "cell_type": "markdown",
   "metadata": {},
   "source": [
    "## Data Preprocessing & Exploration"
   ]
  },
  {
   "cell_type": "markdown",
   "metadata": {},
   "source": [
    "### Initialization"
   ]
  },
  {
   "cell_type": "code",
   "execution_count": 4,
   "metadata": {},
   "outputs": [],
   "source": [
    "import numpy as np\n",
    "import pandas as pd\n",
    "\n",
    "import seaborn as sns\n",
    "import math \n",
    "import sklearn.linear_model\n",
    "import sklearn.metrics\n",
    "import sklearn.neighbors\n",
    "import sklearn.preprocessing\n",
    "\n",
    "from sklearn.model_selection import train_test_split\n",
    "\n",
    "from IPython.display import display"
   ]
  },
  {
   "cell_type": "markdown",
   "metadata": {},
   "source": [
    "### Load Data"
   ]
  },
  {
   "cell_type": "code",
   "execution_count": 5,
   "metadata": {},
   "outputs": [
    {
     "name": "stdout",
     "output_type": "stream",
     "text": [
      "Dataset loaded successfuly\n"
     ]
    }
   ],
   "source": [
    "# Load dataset\n",
    "\n",
    "try:\n",
    "    df = pd.read_csv('./data/insurance_us.csv')\n",
    "except FileNotFoundError as err:\n",
    "    print(f'The following error occured: {err}')\n",
    "else:\n",
    "    print(\"Dataset loaded successfuly\")"
   ]
  },
  {
   "cell_type": "markdown",
   "metadata": {},
   "source": [
    "### Data Preprocessing"
   ]
  },
  {
   "cell_type": "code",
   "execution_count": 6,
   "metadata": {},
   "outputs": [],
   "source": [
    "# Rename columns\n",
    "\n",
    "df = df.rename(\n",
    "    columns={'Gender': 'gender', 'Age': 'age', 'Salary': 'income', 'Family members': 'family_members', 'Insurance benefits': 'insurance_benefits'}\n",
    ")\n"
   ]
  },
  {
   "cell_type": "markdown",
   "metadata": {},
   "source": [
    "### Data Exploration"
   ]
  },
  {
   "cell_type": "code",
   "execution_count": 7,
   "metadata": {},
   "outputs": [
    {
     "data": {
      "text/html": [
       "<div>\n",
       "<style scoped>\n",
       "    .dataframe tbody tr th:only-of-type {\n",
       "        vertical-align: middle;\n",
       "    }\n",
       "\n",
       "    .dataframe tbody tr th {\n",
       "        vertical-align: top;\n",
       "    }\n",
       "\n",
       "    .dataframe thead th {\n",
       "        text-align: right;\n",
       "    }\n",
       "</style>\n",
       "<table border=\"1\" class=\"dataframe\">\n",
       "  <thead>\n",
       "    <tr style=\"text-align: right;\">\n",
       "      <th></th>\n",
       "      <th>gender</th>\n",
       "      <th>age</th>\n",
       "      <th>income</th>\n",
       "      <th>family_members</th>\n",
       "      <th>insurance_benefits</th>\n",
       "    </tr>\n",
       "  </thead>\n",
       "  <tbody>\n",
       "    <tr>\n",
       "      <th>4372</th>\n",
       "      <td>1</td>\n",
       "      <td>39.0</td>\n",
       "      <td>57700.0</td>\n",
       "      <td>3</td>\n",
       "      <td>0</td>\n",
       "    </tr>\n",
       "    <tr>\n",
       "      <th>411</th>\n",
       "      <td>1</td>\n",
       "      <td>24.0</td>\n",
       "      <td>32900.0</td>\n",
       "      <td>1</td>\n",
       "      <td>0</td>\n",
       "    </tr>\n",
       "    <tr>\n",
       "      <th>1397</th>\n",
       "      <td>0</td>\n",
       "      <td>33.0</td>\n",
       "      <td>52100.0</td>\n",
       "      <td>1</td>\n",
       "      <td>0</td>\n",
       "    </tr>\n",
       "    <tr>\n",
       "      <th>2000</th>\n",
       "      <td>0</td>\n",
       "      <td>34.0</td>\n",
       "      <td>29000.0</td>\n",
       "      <td>2</td>\n",
       "      <td>0</td>\n",
       "    </tr>\n",
       "    <tr>\n",
       "      <th>3984</th>\n",
       "      <td>1</td>\n",
       "      <td>37.0</td>\n",
       "      <td>29800.0</td>\n",
       "      <td>0</td>\n",
       "      <td>0</td>\n",
       "    </tr>\n",
       "    <tr>\n",
       "      <th>2729</th>\n",
       "      <td>0</td>\n",
       "      <td>37.0</td>\n",
       "      <td>48500.0</td>\n",
       "      <td>0</td>\n",
       "      <td>0</td>\n",
       "    </tr>\n",
       "    <tr>\n",
       "      <th>2751</th>\n",
       "      <td>1</td>\n",
       "      <td>24.0</td>\n",
       "      <td>30900.0</td>\n",
       "      <td>1</td>\n",
       "      <td>0</td>\n",
       "    </tr>\n",
       "    <tr>\n",
       "      <th>4260</th>\n",
       "      <td>0</td>\n",
       "      <td>37.0</td>\n",
       "      <td>37900.0</td>\n",
       "      <td>2</td>\n",
       "      <td>0</td>\n",
       "    </tr>\n",
       "    <tr>\n",
       "      <th>1346</th>\n",
       "      <td>0</td>\n",
       "      <td>26.0</td>\n",
       "      <td>35400.0</td>\n",
       "      <td>1</td>\n",
       "      <td>0</td>\n",
       "    </tr>\n",
       "    <tr>\n",
       "      <th>4793</th>\n",
       "      <td>1</td>\n",
       "      <td>24.0</td>\n",
       "      <td>37800.0</td>\n",
       "      <td>0</td>\n",
       "      <td>0</td>\n",
       "    </tr>\n",
       "  </tbody>\n",
       "</table>\n",
       "</div>"
      ],
      "text/plain": [
       "      gender   age   income  family_members  insurance_benefits\n",
       "4372       1  39.0  57700.0               3                   0\n",
       "411        1  24.0  32900.0               1                   0\n",
       "1397       0  33.0  52100.0               1                   0\n",
       "2000       0  34.0  29000.0               2                   0\n",
       "3984       1  37.0  29800.0               0                   0\n",
       "2729       0  37.0  48500.0               0                   0\n",
       "2751       1  24.0  30900.0               1                   0\n",
       "4260       0  37.0  37900.0               2                   0\n",
       "1346       0  26.0  35400.0               1                   0\n",
       "4793       1  24.0  37800.0               0                   0"
      ]
     },
     "execution_count": 7,
     "metadata": {},
     "output_type": "execute_result"
    }
   ],
   "source": [
    "# Sample 10 rows of data\n",
    "\n",
    "df.sample(10)"
   ]
  },
  {
   "cell_type": "code",
   "execution_count": 8,
   "metadata": {},
   "outputs": [
    {
     "data": {
      "text/plain": [
       "gender                0\n",
       "age                   0\n",
       "income                0\n",
       "family_members        0\n",
       "insurance_benefits    0\n",
       "dtype: int64"
      ]
     },
     "execution_count": 8,
     "metadata": {},
     "output_type": "execute_result"
    }
   ],
   "source": [
    "# Find number of missing values, all columns\n",
    "\n",
    "df.isna().sum()"
   ]
  },
  {
   "cell_type": "markdown",
   "metadata": {},
   "source": [
    "**Note:** Since values in the columns may appear multiple times, duplication is not only likely but also completely acceptable and expected in this scenario. This repetition does not pose any issues and is considered a normal occurrence."
   ]
  },
  {
   "cell_type": "code",
   "execution_count": 9,
   "metadata": {},
   "outputs": [
    {
     "name": "stdout",
     "output_type": "stream",
     "text": [
      "<class 'pandas.core.frame.DataFrame'>\n",
      "RangeIndex: 5000 entries, 0 to 4999\n",
      "Data columns (total 5 columns):\n",
      " #   Column              Non-Null Count  Dtype  \n",
      "---  ------              --------------  -----  \n",
      " 0   gender              5000 non-null   int64  \n",
      " 1   age                 5000 non-null   float64\n",
      " 2   income              5000 non-null   float64\n",
      " 3   family_members      5000 non-null   int64  \n",
      " 4   insurance_benefits  5000 non-null   int64  \n",
      "dtypes: float64(2), int64(3)\n",
      "memory usage: 195.4 KB\n"
     ]
    }
   ],
   "source": [
    "# View dataset information\n",
    "\n",
    "df.info()"
   ]
  },
  {
   "cell_type": "code",
   "execution_count": 10,
   "metadata": {},
   "outputs": [
    {
     "name": "stdout",
     "output_type": "stream",
     "text": [
      "Safe to convert\n"
     ]
    }
   ],
   "source": [
    "# Convert the data type of 'age' column, if safe!\n",
    "\n",
    "if np.array_equal(df['age'], df['age'].astype(int)) == True:\n",
    "    print(f'Safe to convert')\n",
    "    df['age'] = df['age'].astype(int, errors='raise')"
   ]
  },
  {
   "cell_type": "code",
   "execution_count": 11,
   "metadata": {},
   "outputs": [
    {
     "name": "stdout",
     "output_type": "stream",
     "text": [
      "<class 'pandas.core.frame.DataFrame'>\n",
      "RangeIndex: 5000 entries, 0 to 4999\n",
      "Data columns (total 5 columns):\n",
      " #   Column              Non-Null Count  Dtype  \n",
      "---  ------              --------------  -----  \n",
      " 0   gender              5000 non-null   int64  \n",
      " 1   age                 5000 non-null   int64  \n",
      " 2   income              5000 non-null   float64\n",
      " 3   family_members      5000 non-null   int64  \n",
      " 4   insurance_benefits  5000 non-null   int64  \n",
      "dtypes: float64(1), int64(4)\n",
      "memory usage: 195.4 KB\n"
     ]
    }
   ],
   "source": [
    "# Check for safe conversion\n",
    "\n",
    "df.info()"
   ]
  },
  {
   "cell_type": "code",
   "execution_count": 12,
   "metadata": {},
   "outputs": [
    {
     "data": {
      "text/html": [
       "<div>\n",
       "<style scoped>\n",
       "    .dataframe tbody tr th:only-of-type {\n",
       "        vertical-align: middle;\n",
       "    }\n",
       "\n",
       "    .dataframe tbody tr th {\n",
       "        vertical-align: top;\n",
       "    }\n",
       "\n",
       "    .dataframe thead th {\n",
       "        text-align: right;\n",
       "    }\n",
       "</style>\n",
       "<table border=\"1\" class=\"dataframe\">\n",
       "  <thead>\n",
       "    <tr style=\"text-align: right;\">\n",
       "      <th></th>\n",
       "      <th>gender</th>\n",
       "      <th>age</th>\n",
       "      <th>income</th>\n",
       "      <th>family_members</th>\n",
       "      <th>insurance_benefits</th>\n",
       "    </tr>\n",
       "  </thead>\n",
       "  <tbody>\n",
       "    <tr>\n",
       "      <th>count</th>\n",
       "      <td>5000.000000</td>\n",
       "      <td>5000.000000</td>\n",
       "      <td>5000.000000</td>\n",
       "      <td>5000.000000</td>\n",
       "      <td>5000.000000</td>\n",
       "    </tr>\n",
       "    <tr>\n",
       "      <th>mean</th>\n",
       "      <td>0.499000</td>\n",
       "      <td>30.952800</td>\n",
       "      <td>39916.360000</td>\n",
       "      <td>1.194200</td>\n",
       "      <td>0.148000</td>\n",
       "    </tr>\n",
       "    <tr>\n",
       "      <th>std</th>\n",
       "      <td>0.500049</td>\n",
       "      <td>8.440807</td>\n",
       "      <td>9900.083569</td>\n",
       "      <td>1.091387</td>\n",
       "      <td>0.463183</td>\n",
       "    </tr>\n",
       "    <tr>\n",
       "      <th>min</th>\n",
       "      <td>0.000000</td>\n",
       "      <td>18.000000</td>\n",
       "      <td>5300.000000</td>\n",
       "      <td>0.000000</td>\n",
       "      <td>0.000000</td>\n",
       "    </tr>\n",
       "    <tr>\n",
       "      <th>25%</th>\n",
       "      <td>0.000000</td>\n",
       "      <td>24.000000</td>\n",
       "      <td>33300.000000</td>\n",
       "      <td>0.000000</td>\n",
       "      <td>0.000000</td>\n",
       "    </tr>\n",
       "    <tr>\n",
       "      <th>50%</th>\n",
       "      <td>0.000000</td>\n",
       "      <td>30.000000</td>\n",
       "      <td>40200.000000</td>\n",
       "      <td>1.000000</td>\n",
       "      <td>0.000000</td>\n",
       "    </tr>\n",
       "    <tr>\n",
       "      <th>75%</th>\n",
       "      <td>1.000000</td>\n",
       "      <td>37.000000</td>\n",
       "      <td>46600.000000</td>\n",
       "      <td>2.000000</td>\n",
       "      <td>0.000000</td>\n",
       "    </tr>\n",
       "    <tr>\n",
       "      <th>max</th>\n",
       "      <td>1.000000</td>\n",
       "      <td>65.000000</td>\n",
       "      <td>79000.000000</td>\n",
       "      <td>6.000000</td>\n",
       "      <td>5.000000</td>\n",
       "    </tr>\n",
       "  </tbody>\n",
       "</table>\n",
       "</div>"
      ],
      "text/plain": [
       "            gender          age        income  family_members  \\\n",
       "count  5000.000000  5000.000000   5000.000000     5000.000000   \n",
       "mean      0.499000    30.952800  39916.360000        1.194200   \n",
       "std       0.500049     8.440807   9900.083569        1.091387   \n",
       "min       0.000000    18.000000   5300.000000        0.000000   \n",
       "25%       0.000000    24.000000  33300.000000        0.000000   \n",
       "50%       0.000000    30.000000  40200.000000        1.000000   \n",
       "75%       1.000000    37.000000  46600.000000        2.000000   \n",
       "max       1.000000    65.000000  79000.000000        6.000000   \n",
       "\n",
       "       insurance_benefits  \n",
       "count         5000.000000  \n",
       "mean             0.148000  \n",
       "std              0.463183  \n",
       "min              0.000000  \n",
       "25%              0.000000  \n",
       "50%              0.000000  \n",
       "75%              0.000000  \n",
       "max              5.000000  "
      ]
     },
     "execution_count": 12,
     "metadata": {},
     "output_type": "execute_result"
    }
   ],
   "source": [
    "# Look at data's descriptive statistics\n",
    "\n",
    "df.describe()"
   ]
  },
  {
   "cell_type": "markdown",
   "metadata": {},
   "source": [
    "## EDA"
   ]
  },
  {
   "cell_type": "code",
   "execution_count": 13,
   "metadata": {},
   "outputs": [
    {
     "name": "stderr",
     "output_type": "stream",
     "text": [
      "/Users/marlonnunez/opt/anaconda3/lib/python3.11/site-packages/seaborn/_oldcore.py:1119: FutureWarning: use_inf_as_na option is deprecated and will be removed in a future version. Convert inf values to NaN before operating instead.\n",
      "  with pd.option_context('mode.use_inf_as_na', True):\n",
      "/Users/marlonnunez/opt/anaconda3/lib/python3.11/site-packages/seaborn/_oldcore.py:1119: FutureWarning: use_inf_as_na option is deprecated and will be removed in a future version. Convert inf values to NaN before operating instead.\n",
      "  with pd.option_context('mode.use_inf_as_na', True):\n",
      "/Users/marlonnunez/opt/anaconda3/lib/python3.11/site-packages/seaborn/_oldcore.py:1119: FutureWarning: use_inf_as_na option is deprecated and will be removed in a future version. Convert inf values to NaN before operating instead.\n",
      "  with pd.option_context('mode.use_inf_as_na', True):\n",
      "/Users/marlonnunez/opt/anaconda3/lib/python3.11/site-packages/seaborn/_oldcore.py:1119: FutureWarning: use_inf_as_na option is deprecated and will be removed in a future version. Convert inf values to NaN before operating instead.\n",
      "  with pd.option_context('mode.use_inf_as_na', True):\n",
      "/Users/marlonnunez/opt/anaconda3/lib/python3.11/site-packages/seaborn/_oldcore.py:1119: FutureWarning: use_inf_as_na option is deprecated and will be removed in a future version. Convert inf values to NaN before operating instead.\n",
      "  with pd.option_context('mode.use_inf_as_na', True):\n",
      "/Users/marlonnunez/opt/anaconda3/lib/python3.11/site-packages/seaborn/_oldcore.py:1119: FutureWarning: use_inf_as_na option is deprecated and will be removed in a future version. Convert inf values to NaN before operating instead.\n",
      "  with pd.option_context('mode.use_inf_as_na', True):\n",
      "/Users/marlonnunez/opt/anaconda3/lib/python3.11/site-packages/seaborn/_oldcore.py:1119: FutureWarning: use_inf_as_na option is deprecated and will be removed in a future version. Convert inf values to NaN before operating instead.\n",
      "  with pd.option_context('mode.use_inf_as_na', True):\n",
      "/Users/marlonnunez/opt/anaconda3/lib/python3.11/site-packages/seaborn/_oldcore.py:1119: FutureWarning: use_inf_as_na option is deprecated and will be removed in a future version. Convert inf values to NaN before operating instead.\n",
      "  with pd.option_context('mode.use_inf_as_na', True):\n",
      "/Users/marlonnunez/opt/anaconda3/lib/python3.11/site-packages/seaborn/_oldcore.py:1119: FutureWarning: use_inf_as_na option is deprecated and will be removed in a future version. Convert inf values to NaN before operating instead.\n",
      "  with pd.option_context('mode.use_inf_as_na', True):\n",
      "/Users/marlonnunez/opt/anaconda3/lib/python3.11/site-packages/seaborn/_oldcore.py:1119: FutureWarning: use_inf_as_na option is deprecated and will be removed in a future version. Convert inf values to NaN before operating instead.\n",
      "  with pd.option_context('mode.use_inf_as_na', True):\n",
      "/Users/marlonnunez/opt/anaconda3/lib/python3.11/site-packages/seaborn/_oldcore.py:1119: FutureWarning: use_inf_as_na option is deprecated and will be removed in a future version. Convert inf values to NaN before operating instead.\n",
      "  with pd.option_context('mode.use_inf_as_na', True):\n",
      "/Users/marlonnunez/opt/anaconda3/lib/python3.11/site-packages/seaborn/_oldcore.py:1119: FutureWarning: use_inf_as_na option is deprecated and will be removed in a future version. Convert inf values to NaN before operating instead.\n",
      "  with pd.option_context('mode.use_inf_as_na', True):\n",
      "/Users/marlonnunez/opt/anaconda3/lib/python3.11/site-packages/seaborn/_oldcore.py:1119: FutureWarning: use_inf_as_na option is deprecated and will be removed in a future version. Convert inf values to NaN before operating instead.\n",
      "  with pd.option_context('mode.use_inf_as_na', True):\n",
      "/Users/marlonnunez/opt/anaconda3/lib/python3.11/site-packages/seaborn/_oldcore.py:1119: FutureWarning: use_inf_as_na option is deprecated and will be removed in a future version. Convert inf values to NaN before operating instead.\n",
      "  with pd.option_context('mode.use_inf_as_na', True):\n",
      "/Users/marlonnunez/opt/anaconda3/lib/python3.11/site-packages/seaborn/_oldcore.py:1119: FutureWarning: use_inf_as_na option is deprecated and will be removed in a future version. Convert inf values to NaN before operating instead.\n",
      "  with pd.option_context('mode.use_inf_as_na', True):\n",
      "/Users/marlonnunez/opt/anaconda3/lib/python3.11/site-packages/seaborn/_oldcore.py:1119: FutureWarning: use_inf_as_na option is deprecated and will be removed in a future version. Convert inf values to NaN before operating instead.\n",
      "  with pd.option_context('mode.use_inf_as_na', True):\n",
      "/Users/marlonnunez/opt/anaconda3/lib/python3.11/site-packages/seaborn/_oldcore.py:1119: FutureWarning: use_inf_as_na option is deprecated and will be removed in a future version. Convert inf values to NaN before operating instead.\n",
      "  with pd.option_context('mode.use_inf_as_na', True):\n",
      "/Users/marlonnunez/opt/anaconda3/lib/python3.11/site-packages/seaborn/_oldcore.py:1119: FutureWarning: use_inf_as_na option is deprecated and will be removed in a future version. Convert inf values to NaN before operating instead.\n",
      "  with pd.option_context('mode.use_inf_as_na', True):\n",
      "/Users/marlonnunez/opt/anaconda3/lib/python3.11/site-packages/seaborn/_oldcore.py:1119: FutureWarning: use_inf_as_na option is deprecated and will be removed in a future version. Convert inf values to NaN before operating instead.\n",
      "  with pd.option_context('mode.use_inf_as_na', True):\n",
      "/Users/marlonnunez/opt/anaconda3/lib/python3.11/site-packages/seaborn/_oldcore.py:1119: FutureWarning: use_inf_as_na option is deprecated and will be removed in a future version. Convert inf values to NaN before operating instead.\n",
      "  with pd.option_context('mode.use_inf_as_na', True):\n",
      "/Users/marlonnunez/opt/anaconda3/lib/python3.11/site-packages/seaborn/_oldcore.py:1119: FutureWarning: use_inf_as_na option is deprecated and will be removed in a future version. Convert inf values to NaN before operating instead.\n",
      "  with pd.option_context('mode.use_inf_as_na', True):\n",
      "/Users/marlonnunez/opt/anaconda3/lib/python3.11/site-packages/seaborn/_oldcore.py:1119: FutureWarning: use_inf_as_na option is deprecated and will be removed in a future version. Convert inf values to NaN before operating instead.\n",
      "  with pd.option_context('mode.use_inf_as_na', True):\n",
      "/Users/marlonnunez/opt/anaconda3/lib/python3.11/site-packages/seaborn/_oldcore.py:1119: FutureWarning: use_inf_as_na option is deprecated and will be removed in a future version. Convert inf values to NaN before operating instead.\n",
      "  with pd.option_context('mode.use_inf_as_na', True):\n",
      "/Users/marlonnunez/opt/anaconda3/lib/python3.11/site-packages/seaborn/_oldcore.py:1119: FutureWarning: use_inf_as_na option is deprecated and will be removed in a future version. Convert inf values to NaN before operating instead.\n",
      "  with pd.option_context('mode.use_inf_as_na', True):\n",
      "/Users/marlonnunez/opt/anaconda3/lib/python3.11/site-packages/seaborn/_oldcore.py:1119: FutureWarning: use_inf_as_na option is deprecated and will be removed in a future version. Convert inf values to NaN before operating instead.\n",
      "  with pd.option_context('mode.use_inf_as_na', True):\n",
      "/Users/marlonnunez/opt/anaconda3/lib/python3.11/site-packages/seaborn/_oldcore.py:1119: FutureWarning: use_inf_as_na option is deprecated and will be removed in a future version. Convert inf values to NaN before operating instead.\n",
      "  with pd.option_context('mode.use_inf_as_na', True):\n",
      "/Users/marlonnunez/opt/anaconda3/lib/python3.11/site-packages/seaborn/_oldcore.py:1119: FutureWarning: use_inf_as_na option is deprecated and will be removed in a future version. Convert inf values to NaN before operating instead.\n",
      "  with pd.option_context('mode.use_inf_as_na', True):\n",
      "/Users/marlonnunez/opt/anaconda3/lib/python3.11/site-packages/seaborn/_oldcore.py:1119: FutureWarning: use_inf_as_na option is deprecated and will be removed in a future version. Convert inf values to NaN before operating instead.\n",
      "  with pd.option_context('mode.use_inf_as_na', True):\n",
      "/Users/marlonnunez/opt/anaconda3/lib/python3.11/site-packages/seaborn/_oldcore.py:1119: FutureWarning: use_inf_as_na option is deprecated and will be removed in a future version. Convert inf values to NaN before operating instead.\n",
      "  with pd.option_context('mode.use_inf_as_na', True):\n",
      "/Users/marlonnunez/opt/anaconda3/lib/python3.11/site-packages/seaborn/_oldcore.py:1119: FutureWarning: use_inf_as_na option is deprecated and will be removed in a future version. Convert inf values to NaN before operating instead.\n",
      "  with pd.option_context('mode.use_inf_as_na', True):\n",
      "/Users/marlonnunez/opt/anaconda3/lib/python3.11/site-packages/seaborn/_oldcore.py:1119: FutureWarning: use_inf_as_na option is deprecated and will be removed in a future version. Convert inf values to NaN before operating instead.\n",
      "  with pd.option_context('mode.use_inf_as_na', True):\n",
      "/Users/marlonnunez/opt/anaconda3/lib/python3.11/site-packages/seaborn/_oldcore.py:1119: FutureWarning: use_inf_as_na option is deprecated and will be removed in a future version. Convert inf values to NaN before operating instead.\n",
      "  with pd.option_context('mode.use_inf_as_na', True):\n",
      "/Users/marlonnunez/opt/anaconda3/lib/python3.11/site-packages/seaborn/_oldcore.py:1119: FutureWarning: use_inf_as_na option is deprecated and will be removed in a future version. Convert inf values to NaN before operating instead.\n",
      "  with pd.option_context('mode.use_inf_as_na', True):\n",
      "/Users/marlonnunez/opt/anaconda3/lib/python3.11/site-packages/seaborn/_oldcore.py:1119: FutureWarning: use_inf_as_na option is deprecated and will be removed in a future version. Convert inf values to NaN before operating instead.\n",
      "  with pd.option_context('mode.use_inf_as_na', True):\n",
      "/Users/marlonnunez/opt/anaconda3/lib/python3.11/site-packages/seaborn/_oldcore.py:1119: FutureWarning: use_inf_as_na option is deprecated and will be removed in a future version. Convert inf values to NaN before operating instead.\n",
      "  with pd.option_context('mode.use_inf_as_na', True):\n",
      "/Users/marlonnunez/opt/anaconda3/lib/python3.11/site-packages/seaborn/_oldcore.py:1119: FutureWarning: use_inf_as_na option is deprecated and will be removed in a future version. Convert inf values to NaN before operating instead.\n",
      "  with pd.option_context('mode.use_inf_as_na', True):\n",
      "/Users/marlonnunez/opt/anaconda3/lib/python3.11/site-packages/seaborn/_oldcore.py:1119: FutureWarning: use_inf_as_na option is deprecated and will be removed in a future version. Convert inf values to NaN before operating instead.\n",
      "  with pd.option_context('mode.use_inf_as_na', True):\n",
      "/Users/marlonnunez/opt/anaconda3/lib/python3.11/site-packages/seaborn/_oldcore.py:1119: FutureWarning: use_inf_as_na option is deprecated and will be removed in a future version. Convert inf values to NaN before operating instead.\n",
      "  with pd.option_context('mode.use_inf_as_na', True):\n",
      "/Users/marlonnunez/opt/anaconda3/lib/python3.11/site-packages/seaborn/_oldcore.py:1119: FutureWarning: use_inf_as_na option is deprecated and will be removed in a future version. Convert inf values to NaN before operating instead.\n",
      "  with pd.option_context('mode.use_inf_as_na', True):\n",
      "/Users/marlonnunez/opt/anaconda3/lib/python3.11/site-packages/seaborn/_oldcore.py:1119: FutureWarning: use_inf_as_na option is deprecated and will be removed in a future version. Convert inf values to NaN before operating instead.\n",
      "  with pd.option_context('mode.use_inf_as_na', True):\n",
      "/Users/marlonnunez/opt/anaconda3/lib/python3.11/site-packages/seaborn/_oldcore.py:1119: FutureWarning: use_inf_as_na option is deprecated and will be removed in a future version. Convert inf values to NaN before operating instead.\n",
      "  with pd.option_context('mode.use_inf_as_na', True):\n",
      "/Users/marlonnunez/opt/anaconda3/lib/python3.11/site-packages/seaborn/_oldcore.py:1119: FutureWarning: use_inf_as_na option is deprecated and will be removed in a future version. Convert inf values to NaN before operating instead.\n",
      "  with pd.option_context('mode.use_inf_as_na', True):\n",
      "/Users/marlonnunez/opt/anaconda3/lib/python3.11/site-packages/seaborn/_oldcore.py:1119: FutureWarning: use_inf_as_na option is deprecated and will be removed in a future version. Convert inf values to NaN before operating instead.\n",
      "  with pd.option_context('mode.use_inf_as_na', True):\n",
      "/Users/marlonnunez/opt/anaconda3/lib/python3.11/site-packages/seaborn/_oldcore.py:1119: FutureWarning: use_inf_as_na option is deprecated and will be removed in a future version. Convert inf values to NaN before operating instead.\n",
      "  with pd.option_context('mode.use_inf_as_na', True):\n",
      "/Users/marlonnunez/opt/anaconda3/lib/python3.11/site-packages/seaborn/_oldcore.py:1119: FutureWarning: use_inf_as_na option is deprecated and will be removed in a future version. Convert inf values to NaN before operating instead.\n",
      "  with pd.option_context('mode.use_inf_as_na', True):\n"
     ]
    },
    {
     "data": {
      "image/png": "[encoded data removed]",
      "text/plain": [
       "<Figure size 1200x1200 with 30 Axes>"
      ]
     },
     "metadata": {},
     "output_type": "display_data"
    }
   ],
   "source": [
    "# Create a pair plot to check for the presence of distinct customer groups, based one each column\n",
    "\n",
    "g = sns.pairplot(df, kind='hist')\n",
    "g.fig.set_size_inches(12, 12)"
   ]
  },
  {
   "cell_type": "markdown",
   "metadata": {},
   "source": [
    "## Tasks"
   ]
  },
  {
   "cell_type": "markdown",
   "metadata": {},
   "source": [
    "### Task 1: Similar Customers"
   ]
  },
  {
   "cell_type": "markdown",
   "metadata": {},
   "source": [
    "A custom function is utilized to find similar customers by obtaining the k nearest neighbors, from [scikit-learn](https://scikit-learn.org/stable/modules/generated/sklearn.neighbors.NearestNeighbors.html#sklearn.neighbors.NearestNeighbors), for a specified object, disregarding the number of received insurance benefits. Evaluation of this function is conducted across four scenarios derived from the combination of two factors:\n",
    "\n",
    "\n",
    "Test it for four combination of two cases:\n",
    "- Scaling\n",
    "  - unscaled data\n",
    "  - scaled data (using the [MaxAbsScaler](https://scikit-learn.org/stable/modules/generated/sklearn.preprocessing.MaxAbsScaler.html) scaler)\n",
    "- Distance Metrics\n",
    "  - Euclidean\n",
    "  - Manhattan\n",
    "\n",
    "The goal is to evaluate the following:\n",
    "- Impact of unscaled data on the kNN algorithm, if any, and its manifestation.\n",
    "- Similarity of results when using the Manhattan distance metric, irrespective of scaling."
   ]
  },
  {
   "cell_type": "code",
   "execution_count": 14,
   "metadata": {},
   "outputs": [],
   "source": [
    "feature_names = ['gender', 'age', 'income', 'family_members']"
   ]
  },
  {
   "cell_type": "code",
   "execution_count": 15,
   "metadata": {},
   "outputs": [],
   "source": [
    "# Function to get the K-Nearest Neighbors\n",
    "\n",
    "def get_knn(df, n, k, metric):\n",
    "    \n",
    "    \"\"\"\n",
    "    Returns k nearest neighbors\n",
    "\n",
    "    :param df: pandas DataFrame used to find similar objects within\n",
    "    :param n: object no for which the nearest neighbours are looked for\n",
    "    :param k: the number of the nearest neighbours to return\n",
    "    :param metric: name of distance metric\n",
    "    \"\"\"\n",
    "\n",
    "    nbrs = sklearn.neighbors.NearestNeighbors(n_neighbors=k, algorithm='ball_tree', metric=metric).fit(df[feature_names])\n",
    "    nbrs_distances, nbrs_indices = nbrs.kneighbors([df.iloc[n][feature_names]], k, return_distance=True)\n",
    "    \n",
    "    df_res = pd.concat([\n",
    "        df.iloc[nbrs_indices[0]], \n",
    "        pd.DataFrame(nbrs_distances.T, index=nbrs_indices[0], columns=['distance'])\n",
    "        ], axis=1)\n",
    "    \n",
    "    return df_res"
   ]
  },
  {
   "cell_type": "code",
   "execution_count": 16,
   "metadata": {},
   "outputs": [],
   "source": [
    "# Scale the dataset\n",
    "\n",
    "feature_names = ['gender', 'age', 'income', 'family_members']\n",
    "\n",
    "transformer_mas = sklearn.preprocessing.MaxAbsScaler().fit(df[feature_names].to_numpy())\n",
    "\n",
    "df_scaled = df.copy()\n",
    "df_scaled.loc[:, feature_names] = transformer_mas.transform(df[feature_names].to_numpy())"
   ]
  },
  {
   "cell_type": "code",
   "execution_count": 17,
   "metadata": {},
   "outputs": [
    {
     "data": {
      "text/html": [
       "<div>\n",
       "<style scoped>\n",
       "    .dataframe tbody tr th:only-of-type {\n",
       "        vertical-align: middle;\n",
       "    }\n",
       "\n",
       "    .dataframe tbody tr th {\n",
       "        vertical-align: top;\n",
       "    }\n",
       "\n",
       "    .dataframe thead th {\n",
       "        text-align: right;\n",
       "    }\n",
       "</style>\n",
       "<table border=\"1\" class=\"dataframe\">\n",
       "  <thead>\n",
       "    <tr style=\"text-align: right;\">\n",
       "      <th></th>\n",
       "      <th>gender</th>\n",
       "      <th>age</th>\n",
       "      <th>income</th>\n",
       "      <th>family_members</th>\n",
       "      <th>insurance_benefits</th>\n",
       "    </tr>\n",
       "  </thead>\n",
       "  <tbody>\n",
       "    <tr>\n",
       "      <th>2142</th>\n",
       "      <td>0</td>\n",
       "      <td>0.492308</td>\n",
       "      <td>0.581013</td>\n",
       "      <td>0.166667</td>\n",
       "      <td>0</td>\n",
       "    </tr>\n",
       "    <tr>\n",
       "      <th>3720</th>\n",
       "      <td>1</td>\n",
       "      <td>0.600000</td>\n",
       "      <td>0.517722</td>\n",
       "      <td>0.166667</td>\n",
       "      <td>0</td>\n",
       "    </tr>\n",
       "    <tr>\n",
       "      <th>2356</th>\n",
       "      <td>0</td>\n",
       "      <td>0.600000</td>\n",
       "      <td>0.341772</td>\n",
       "      <td>0.166667</td>\n",
       "      <td>0</td>\n",
       "    </tr>\n",
       "    <tr>\n",
       "      <th>613</th>\n",
       "      <td>1</td>\n",
       "      <td>0.492308</td>\n",
       "      <td>0.356962</td>\n",
       "      <td>0.000000</td>\n",
       "      <td>0</td>\n",
       "    </tr>\n",
       "    <tr>\n",
       "      <th>2722</th>\n",
       "      <td>0</td>\n",
       "      <td>0.446154</td>\n",
       "      <td>0.534177</td>\n",
       "      <td>0.333333</td>\n",
       "      <td>0</td>\n",
       "    </tr>\n",
       "  </tbody>\n",
       "</table>\n",
       "</div>"
      ],
      "text/plain": [
       "      gender       age    income  family_members  insurance_benefits\n",
       "2142       0  0.492308  0.581013        0.166667                   0\n",
       "3720       1  0.600000  0.517722        0.166667                   0\n",
       "2356       0  0.600000  0.341772        0.166667                   0\n",
       "613        1  0.492308  0.356962        0.000000                   0\n",
       "2722       0  0.446154  0.534177        0.333333                   0"
      ]
     },
     "execution_count": 17,
     "metadata": {},
     "output_type": "execute_result"
    }
   ],
   "source": [
    "# Sample scaled data\n",
    "\n",
    "df_scaled.sample(5)"
   ]
  },
  {
   "cell_type": "code",
   "execution_count": 18,
   "metadata": {
    "scrolled": false
   },
   "outputs": [
    {
     "name": "stdout",
     "output_type": "stream",
     "text": [
      "Not scaled, Euclidean\n",
      "\n",
      "      gender  age   income  family_members  insurance_benefits  distance\n",
      "5          1   43  41000.0               2                   1  0.000000\n",
      "1995       0   45  41000.0               0                   1  3.000000\n",
      "3801       0   46  41000.0               2                   1  3.162278\n",
      "3972       1   40  41000.0               1                   0  3.162278\n",
      "4763       1   46  41000.0               1                   1  3.162278\n",
      "2759       0   47  41000.0               3                   1  4.242641\n",
      "2717       0   37  41000.0               0                   0  6.403124\n",
      "3434       1   36  41000.0               2                   0  7.000000\n",
      "1740       0   36  41000.0               1                   0  7.141428\n",
      "2876       0   35  41000.0               2                   0  8.062258\n",
      "\n",
      "-----------------------------------------------------------------------------\n",
      "\n",
      "Not scaled, Manhattan\n",
      "\n",
      "      gender  age   income  family_members  insurance_benefits  distance\n",
      "5          1   43  41000.0               2                   1       0.0\n",
      "4763       1   46  41000.0               1                   1       4.0\n",
      "3972       1   40  41000.0               1                   0       4.0\n",
      "3801       0   46  41000.0               2                   1       4.0\n",
      "1995       0   45  41000.0               0                   1       5.0\n",
      "2759       0   47  41000.0               3                   1       6.0\n",
      "3434       1   36  41000.0               2                   0       7.0\n",
      "1740       0   36  41000.0               1                   0       9.0\n",
      "2717       0   37  41000.0               0                   0       9.0\n",
      "2876       0   35  41000.0               2                   0       9.0\n",
      "\n",
      "-----------------------------------------------------------------------------\n",
      "\n",
      "Scaled, Euclidean\n",
      "\n",
      "      gender       age    income  family_members  insurance_benefits  distance\n",
      "5          1  0.661538  0.518987        0.333333                   1  0.000000\n",
      "1147       1  0.646154  0.516456        0.333333                   0  0.015592\n",
      "4074       1  0.661538  0.501266        0.333333                   1  0.017722\n",
      "1019       1  0.646154  0.501266        0.333333                   0  0.023468\n",
      "2962       1  0.630769  0.520253        0.333333                   0  0.030795\n",
      "2128       1  0.692308  0.512658        0.333333                   1  0.031413\n",
      "106        1  0.692308  0.526582        0.333333                   1  0.031693\n",
      "2206       1  0.692308  0.530380        0.333333                   1  0.032811\n",
      "2352       1  0.692308  0.531646        0.333333                   1  0.033271\n",
      "719        1  0.630769  0.532911        0.333333                   0  0.033773\n",
      "\n",
      "-----------------------------------------------------------------------------\n",
      "\n",
      "Scaled, Manhattan\n",
      "\n",
      "      gender       age    income  family_members  insurance_benefits  distance\n",
      "5          1  0.661538  0.518987        0.333333                   1  0.000000\n",
      "4074       1  0.661538  0.501266        0.333333                   1  0.017722\n",
      "1147       1  0.646154  0.516456        0.333333                   0  0.017916\n",
      "2962       1  0.630769  0.520253        0.333333                   0  0.032035\n",
      "1019       1  0.646154  0.501266        0.333333                   0  0.033106\n",
      "2128       1  0.692308  0.512658        0.333333                   1  0.037098\n",
      "106        1  0.692308  0.526582        0.333333                   1  0.038364\n",
      "2206       1  0.692308  0.530380        0.333333                   1  0.042162\n",
      "2352       1  0.692308  0.531646        0.333333                   1  0.043427\n",
      "719        1  0.630769  0.532911        0.333333                   0  0.044693\n",
      "\n",
      "-----------------------------------------------------------------------------\n",
      "\n"
     ]
    },
    {
     "name": "stderr",
     "output_type": "stream",
     "text": [
      "/Users/marlonnunez/opt/anaconda3/lib/python3.11/site-packages/sklearn/base.py:439: UserWarning: X does not have valid feature names, but NearestNeighbors was fitted with feature names\n",
      "  warnings.warn(\n",
      "/Users/marlonnunez/opt/anaconda3/lib/python3.11/site-packages/sklearn/base.py:439: UserWarning: X does not have valid feature names, but NearestNeighbors was fitted with feature names\n",
      "  warnings.warn(\n",
      "/Users/marlonnunez/opt/anaconda3/lib/python3.11/site-packages/sklearn/base.py:439: UserWarning: X does not have valid feature names, but NearestNeighbors was fitted with feature names\n",
      "  warnings.warn(\n",
      "/Users/marlonnunez/opt/anaconda3/lib/python3.11/site-packages/sklearn/base.py:439: UserWarning: X does not have valid feature names, but NearestNeighbors was fitted with feature names\n",
      "  warnings.warn(\n"
     ]
    }
   ],
   "source": [
    "# Test cases\n",
    "test_cases = [\n",
    "    {\"description\": \"Not scaled, Euclidean\\n\", \"data_type\": df, \"metric\": 'euclidean'},\n",
    "    {\"description\": \"Not scaled, Manhattan\\n\", \"data_type\": df, \"metric\": 'manhattan'},\n",
    "    {\"description\": \"Scaled, Euclidean\\n\", \"data_type\": df_scaled, \"metric\": 'euclidean'},\n",
    "    {\"description\": \"Scaled, Manhattan\\n\", \"data_type\": df_scaled, \"metric\": 'manhattan'}\n",
    "]\n",
    "\n",
    "# Call get_knn function for each test case\n",
    "for case in test_cases:\n",
    "    print(case[\"description\"])\n",
    "    print(get_knn(df=case['data_type'], n=5, k=10, metric=case[\"metric\"]))\n",
    "    print('\\n-----------------------------------------------------------------------------\\n')"
   ]
  },
  {
   "cell_type": "markdown",
   "metadata": {},
   "source": [
    "**Does the data being not scaled affect the kNN algorithm? If so, how does that appear?** \n",
    "\n",
    "Data scaling plays a significant role in the performance of kNN. In kNN, the choice of distance metric and feature scaling are crucial for comparing data points.\n",
    "- Large values in some features can distort distance calculations and bias results.\n",
    "- Euclidean distance treats all features equally, so larger values in some features have a greater impact on distance.\n",
    "- Manhattan distance simply adds up the absolute differences between each feature. It's less influenced by large values in one feature, but it can still be affected by feature scaling."
   ]
  },
  {
   "cell_type": "markdown",
   "metadata": {},
   "source": [
    "**How similar are the results using the Manhattan distance metric (regardless of the scaling)?** \n",
    "\n",
    "The results appear quite similar regardless of scaling. This is because Manhattan distance is less sensitive to the scale of individual features compared to Euclidean distance."
   ]
  },
  {
   "cell_type": "markdown",
   "metadata": {},
   "source": [
    "### Task 2: Is Customer Likely to Receive Insurance Benefit?"
   ]
  },
  {
   "cell_type": "markdown",
   "metadata": {},
   "source": [
    "To determine if a customer is likely to receive insurance benefits, we can compare the performance of the kNN classification approach with a dummy model. The data should be split into training and testing sets in a 70:30 proportion.\n",
    "\n",
    "Process:\n",
    "- Develop a [kNN-based classification algorithm](https://scikit-learn.org/stable/modules/generated/sklearn.neighbors.KNeighborsClassifier.html) and evaluate its quality using the F1 metric for k values ranging from 1 to 10 on both the original and scaled datasets. This will analyze how the choice of k affects the evaluation metric and whether scaling the data produces any notable differences. Utilize the kNN classification algorithm implementation from scikit-learn or devise a custom implementation.\n",
    "- Construct a dummy model that returns \"1\" with a certain probability. Test the model with four probability values: 0, the probability of receiving any insurance benefit, 0.5, and 1.\n",
    "\n",
    "\n",
    "The probability of paying any insurance benefit can be defined as\n",
    "\n",
    "$$\n",
    "P\\{\\text{insurance benefit received}\\}=\\frac{\\text{number of clients received any insurance benefit}}{\\text{total number of clients}}.\n",
    "$$\n"
   ]
  },
  {
   "cell_type": "code",
   "execution_count": 19,
   "metadata": {},
   "outputs": [],
   "source": [
    "# Classify Benefits\n",
    "\n",
    "df['insurance_benefits_received'] = np.where(df['insurance_benefits'] > 0, 1, 0)"
   ]
  },
  {
   "cell_type": "code",
   "execution_count": 20,
   "metadata": {},
   "outputs": [
    {
     "name": "stdout",
     "output_type": "stream",
     "text": [
      "insurance_benefits_received\n",
      "0    4436\n",
      "1     564\n",
      "Name: count, dtype: int64\n"
     ]
    }
   ],
   "source": [
    "# Check for class imbalance\n",
    "\n",
    "print(df['insurance_benefits_received'].value_counts())"
   ]
  },
  {
   "cell_type": "code",
   "execution_count": 21,
   "metadata": {},
   "outputs": [],
   "source": [
    "# Declare features and target\n",
    "\n",
    "features = df.drop(['insurance_benefits', 'insurance_benefits_received'], axis=1)\n",
    "target = df['insurance_benefits_received']\n",
    "\n",
    "# OHE the 'gender' feature\n",
    "features = pd.get_dummies(features, columns=['gender'], drop_first=True)\n",
    "\n",
    "# Split data into a train and validation dataset (use a 70:30 split)\n",
    "train_features, valid_features, train_target, valid_target = train_test_split(features, target, \n",
    "                                                                              test_size = 0.3, random_state=12345)"
   ]
  },
  {
   "cell_type": "code",
   "execution_count": 22,
   "metadata": {},
   "outputs": [],
   "source": [
    "# Function to scale the data\n",
    "\n",
    "def scale_features(data, feature_names=['age', 'income', 'family_members'], scaler=None):\n",
    "    if not scaler:\n",
    "        scaler = sklearn.preprocessing.MaxAbsScaler().fit(data[feature_names].to_numpy())\n",
    "    features_scaled = data.copy()\n",
    "    features_scaled.loc[:, feature_names] = scaler.transform(data[feature_names].to_numpy())\n",
    "    return features_scaled, scaler\n",
    "\n",
    "# Scale the features\n",
    "train_features_scaled, scaler = scale_features(train_features)\n",
    "valid_features_scaled, _ = scale_features(valid_features, scaler=scaler)"
   ]
  },
  {
   "cell_type": "code",
   "execution_count": 23,
   "metadata": {},
   "outputs": [],
   "source": [
    "# Function to evaluate model\n",
    "\n",
    "def eval_classifier(y_true, y_pred):\n",
    "    \n",
    "    f1_score = sklearn.metrics.f1_score(y_true, y_pred)\n",
    "    print(f'F1: {f1_score:.2f}')\n",
    "\n",
    "    cm = sklearn.metrics.confusion_matrix(y_true, y_pred)\n",
    "    print('Confusion Matrix')\n",
    "    print(cm)"
   ]
  },
  {
   "cell_type": "code",
   "execution_count": 24,
   "metadata": {},
   "outputs": [],
   "source": [
    "# Generate output of a random model\n",
    "\n",
    "def rnd_model_predict(P, size, seed=42):\n",
    "\n",
    "    rng = np.random.default_rng(seed=seed)\n",
    "    return rng.binomial(n=1, p=P, size=size)"
   ]
  },
  {
   "cell_type": "code",
   "execution_count": 25,
   "metadata": {},
   "outputs": [
    {
     "name": "stdout",
     "output_type": "stream",
     "text": [
      "n_neighbors = 1 \n",
      "\n",
      "F1: 0.61\n",
      "Confusion Matrix\n",
      "[[1307   30]\n",
      " [  79   84]]\n",
      "\n",
      "-----------------------------------------------------------------------------\n",
      "\n",
      "n_neighbors = 2 \n",
      "\n",
      "F1: 0.41\n",
      "Confusion Matrix\n",
      "[[1331    6]\n",
      " [ 120   43]]\n",
      "\n",
      "-----------------------------------------------------------------------------\n",
      "\n",
      "n_neighbors = 3 \n",
      "\n",
      "F1: 0.41\n",
      "Confusion Matrix\n",
      "[[1319   18]\n",
      " [ 117   46]]\n",
      "\n",
      "-----------------------------------------------------------------------------\n",
      "\n",
      "n_neighbors = 4 \n",
      "\n",
      "F1: 0.28\n",
      "Confusion Matrix\n",
      "[[1333    4]\n",
      " [ 136   27]]\n",
      "\n",
      "-----------------------------------------------------------------------------\n",
      "\n",
      "n_neighbors = 5 \n",
      "\n",
      "F1: 0.27\n",
      "Confusion Matrix\n",
      "[[1328    9]\n",
      " [ 136   27]]\n",
      "\n",
      "-----------------------------------------------------------------------------\n",
      "\n",
      "n_neighbors = 6 \n",
      "\n",
      "F1: 0.11\n",
      "Confusion Matrix\n",
      "[[1335    2]\n",
      " [ 153   10]]\n",
      "\n",
      "-----------------------------------------------------------------------------\n",
      "\n",
      "n_neighbors = 7 \n",
      "\n",
      "F1: 0.11\n",
      "Confusion Matrix\n",
      "[[1333    4]\n",
      " [ 153   10]]\n",
      "\n",
      "-----------------------------------------------------------------------------\n",
      "\n",
      "n_neighbors = 8 \n",
      "\n",
      "F1: 0.07\n",
      "Confusion Matrix\n",
      "[[1337    0]\n",
      " [ 157    6]]\n",
      "\n",
      "-----------------------------------------------------------------------------\n",
      "\n",
      "n_neighbors = 9 \n",
      "\n",
      "F1: 0.08\n",
      "Confusion Matrix\n",
      "[[1337    0]\n",
      " [ 156    7]]\n",
      "\n",
      "-----------------------------------------------------------------------------\n",
      "\n",
      "n_neighbors = 10 \n",
      "\n",
      "F1: 0.00\n",
      "Confusion Matrix\n",
      "[[1337    0]\n",
      " [ 163    0]]\n",
      "\n",
      "-----------------------------------------------------------------------------\n",
      "\n"
     ]
    }
   ],
   "source": [
    "# Find F1 score for k 1-10 (unscaled data)\n",
    "\n",
    "for integer in range(1, 11):\n",
    "    print(f'n_neighbors = {integer}', '\\n')\n",
    "    model = sklearn.neighbors.KNeighborsClassifier(n_neighbors=integer)\n",
    "    model.fit(train_features, train_target)\n",
    "    predictions = model.predict(valid_features)\n",
    "    eval_classifier(valid_target, predictions)\n",
    "    print('\\n-----------------------------------------------------------------------------\\n')"
   ]
  },
  {
   "cell_type": "code",
   "execution_count": 26,
   "metadata": {},
   "outputs": [
    {
     "name": "stdout",
     "output_type": "stream",
     "text": [
      "n_neighbors = 1 \n",
      "\n",
      "F1: 0.97\n",
      "Confusion Matrix\n",
      "[[1333    4]\n",
      " [   7  156]]\n",
      "\n",
      "-----------------------------------------------------------------------------\n",
      "\n",
      "n_neighbors = 2 \n",
      "\n",
      "F1: 0.93\n",
      "Confusion Matrix\n",
      "[[1336    1]\n",
      " [  21  142]]\n",
      "\n",
      "-----------------------------------------------------------------------------\n",
      "\n",
      "n_neighbors = 3 \n",
      "\n",
      "F1: 0.95\n",
      "Confusion Matrix\n",
      "[[1334    3]\n",
      " [  13  150]]\n",
      "\n",
      "-----------------------------------------------------------------------------\n",
      "\n",
      "n_neighbors = 4 \n",
      "\n",
      "F1: 0.91\n",
      "Confusion Matrix\n",
      "[[1334    3]\n",
      " [  25  138]]\n",
      "\n",
      "-----------------------------------------------------------------------------\n",
      "\n",
      "n_neighbors = 5 \n",
      "\n",
      "F1: 0.92\n",
      "Confusion Matrix\n",
      "[[1330    7]\n",
      " [  17  146]]\n",
      "\n",
      "-----------------------------------------------------------------------------\n",
      "\n",
      "n_neighbors = 6 \n",
      "\n",
      "F1: 0.90\n",
      "Confusion Matrix\n",
      "[[1335    2]\n",
      " [  27  136]]\n",
      "\n",
      "-----------------------------------------------------------------------------\n",
      "\n",
      "n_neighbors = 7 \n",
      "\n",
      "F1: 0.92\n",
      "Confusion Matrix\n",
      "[[1331    6]\n",
      " [  19  144]]\n",
      "\n",
      "-----------------------------------------------------------------------------\n",
      "\n",
      "n_neighbors = 8 \n",
      "\n",
      "F1: 0.90\n",
      "Confusion Matrix\n",
      "[[1333    4]\n",
      " [  26  137]]\n",
      "\n",
      "-----------------------------------------------------------------------------\n",
      "\n",
      "n_neighbors = 9 \n",
      "\n",
      "F1: 0.92\n",
      "Confusion Matrix\n",
      "[[1333    4]\n",
      " [  22  141]]\n",
      "\n",
      "-----------------------------------------------------------------------------\n",
      "\n",
      "n_neighbors = 10 \n",
      "\n",
      "F1: 0.88\n",
      "Confusion Matrix\n",
      "[[1333    4]\n",
      " [  32  131]]\n",
      "\n",
      "-----------------------------------------------------------------------------\n",
      "\n"
     ]
    }
   ],
   "source": [
    "# Find F1 score for k 1-10 (scaled data)\n",
    "\n",
    "for integer in range(1, 11):\n",
    "    print('n_neighbors =', integer, '\\n')\n",
    "    model = sklearn.neighbors.KNeighborsClassifier(n_neighbors=integer)\n",
    "    model.fit(train_features_scaled, train_target)\n",
    "    predictions_scaled = model.predict(valid_features_scaled)\n",
    "    eval_classifier(valid_target, predictions_scaled)\n",
    "    print('\\n-----------------------------------------------------------------------------\\n')"
   ]
  },
  {
   "cell_type": "code",
   "execution_count": 27,
   "metadata": {
    "scrolled": true
   },
   "outputs": [
    {
     "name": "stdout",
     "output_type": "stream",
     "text": [
      "The probability: 0.00\n",
      "F1: 0.00\n",
      "Confusion Matrix\n",
      "[[4436    0]\n",
      " [ 564    0]]\n",
      "\n",
      "-----------------------------------------------------------------------------\n",
      "\n",
      "The probability: 0.10\n",
      "F1: 0.10\n",
      "Confusion Matrix\n",
      "[[3976  460]\n",
      " [ 508   56]]\n",
      "\n",
      "-----------------------------------------------------------------------------\n",
      "\n",
      "The probability: 0.20\n",
      "F1: 0.13\n",
      "Confusion Matrix\n",
      "[[3543  893]\n",
      " [ 463  101]]\n",
      "\n",
      "-----------------------------------------------------------------------------\n",
      "\n",
      "The probability: 0.30\n",
      "F1: 0.16\n",
      "Confusion Matrix\n",
      "[[3133 1303]\n",
      " [ 403  161]]\n",
      "\n",
      "-----------------------------------------------------------------------------\n",
      "\n",
      "The probability: 0.40\n",
      "F1: 0.17\n",
      "Confusion Matrix\n",
      "[[2666 1770]\n",
      " [ 353  211]]\n",
      "\n",
      "-----------------------------------------------------------------------------\n",
      "\n",
      "The probability: 0.50\n",
      "F1: 0.19\n",
      "Confusion Matrix\n",
      "[[2160 2276]\n",
      " [ 270  294]]\n",
      "\n",
      "-----------------------------------------------------------------------------\n",
      "\n",
      "The probability: 0.60\n",
      "F1: 0.19\n",
      "Confusion Matrix\n",
      "[[1721 2715]\n",
      " [ 210  354]]\n",
      "\n",
      "-----------------------------------------------------------------------------\n",
      "\n",
      "The probability: 0.70\n",
      "F1: 0.19\n",
      "Confusion Matrix\n",
      "[[1319 3117]\n",
      " [ 178  386]]\n",
      "\n",
      "-----------------------------------------------------------------------------\n",
      "\n",
      "The probability: 0.80\n",
      "F1: 0.20\n",
      "Confusion Matrix\n",
      "[[ 839 3597]\n",
      " [ 111  453]]\n",
      "\n",
      "-----------------------------------------------------------------------------\n",
      "\n",
      "The probability: 0.90\n",
      "F1: 0.19\n",
      "Confusion Matrix\n",
      "[[ 424 4012]\n",
      " [  71  493]]\n",
      "\n",
      "-----------------------------------------------------------------------------\n",
      "\n",
      "The probability: 1.00\n",
      "F1: 0.20\n",
      "Confusion Matrix\n",
      "[[   0 4436]\n",
      " [   0  564]]\n",
      "\n",
      "-----------------------------------------------------------------------------\n",
      "\n"
     ]
    }
   ],
   "source": [
    "# Find F1 score for different probabilities (0-100%)\n",
    "\n",
    "for P in np.arange(0, 1.1, 0.1):\n",
    "    print(f'The probability: {P:.2f}')\n",
    "    y_pred_rnd = np.random.choice([0, 1], size=len(df), p=[1-P, P])\n",
    "    eval_classifier(df['insurance_benefits_received'], y_pred_rnd)\n",
    "    print('\\n-----------------------------------------------------------------------------\\n')"
   ]
  },
  {
   "cell_type": "markdown",
   "metadata": {},
   "source": [
    "**Findings**\n",
    "\n",
    "The results above indicate that training the model with scaled data significantly improved the F1 score. When unscaled data was used, the F1 scores were relatively low for finding the n-th nearest neighbors. Switching to scaled data yielded significantly better results, outperforming the dummy regressor."
   ]
  },
  {
   "cell_type": "markdown",
   "metadata": {},
   "source": [
    "### Task 3: Regression (with Linear Regression)"
   ]
  },
  {
   "cell_type": "markdown",
   "metadata": {},
   "source": [
    "With `insurance_benefits` as the target, evaluate what RMSE would be for a Linear Regression model."
   ]
  },
  {
   "cell_type": "markdown",
   "metadata": {},
   "source": [
    "Build your own implementation of LR. For that, recall how the linear regression task's solution is formulated in terms of LA. Check RMSE for both the original data and the scaled one. Can you see any difference in RMSE between these two cases?\n",
    "\n",
    "Let's denote\n",
    "- $X$ — feature matrix, each row is a case, each column is a feature, the first column consists of unities\n",
    "- $y$ — target (a vector)\n",
    "- $\\hat{y}$ — estimated tagret (a vector)\n",
    "- $w$ — weight vector\n",
    "\n",
    "The task of linear regression in the language of matrices can be formulated as\n",
    "\n",
    "$$\n",
    "y = Xw\n",
    "$$\n",
    "\n",
    "The training objective then is to find such $w$ that it would minimize the L2-distance (MSE) between $Xw$ and $y$:\n",
    "\n",
    "$$\n",
    "\\min_w d_2(Xw, y) \\quad \\text{or} \\quad \\min_w \\text{MSE}(Xw, y)\n",
    "$$\n",
    "\n",
    "It appears that there is analytical solution for the above:\n",
    "\n",
    "$$\n",
    "w = (X^T X)^{-1} X^T y\n",
    "$$\n",
    "\n",
    "The formula above can be used to find the weights $w$ and the latter can be used to calculate predicted values\n",
    "\n",
    "$$\n",
    "\\hat{y} = X_{val}w\n",
    "$$"
   ]
  },
  {
   "cell_type": "markdown",
   "metadata": {},
   "source": [
    "Split the whole data in the 70:30 proportion for the training/validation parts. Use the RMSE metric for the model evaluation."
   ]
  },
  {
   "cell_type": "code",
   "execution_count": 28,
   "metadata": {},
   "outputs": [],
   "source": [
    "class MyLinearRegression:\n",
    "    \n",
    "    def __init__(self):\n",
    "        self.w = None\n",
    "        self.w0 = None\n",
    "    \n",
    "    def fit(self, X, y):\n",
    "        X2 = np.append(np.ones([len(X), 1]), X, axis=1)\n",
    "        self.w = np.linalg.inv(np.dot(X2.T, X2)).dot(X2.T).dot(y)\n",
    "\n",
    "    def predict(self, X):\n",
    "        X2 = np.append(np.ones((len(X), 1)), X, axis=1)\n",
    "        y_pred = X2.dot(self.w)\n",
    "        \n",
    "        return y_pred"
   ]
  },
  {
   "cell_type": "code",
   "execution_count": 29,
   "metadata": {},
   "outputs": [],
   "source": [
    "def eval_regressor(y_true, y_pred):\n",
    "    \n",
    "    rmse = math.sqrt(sklearn.metrics.mean_squared_error(y_true, y_pred))\n",
    "    print(f'RMSE: {rmse:.2f}')\n",
    "    \n",
    "    r2_score = math.sqrt(sklearn.metrics.r2_score(y_true, y_pred))\n",
    "    print(f'R2: {r2_score:.2f}')    "
   ]
  },
  {
   "cell_type": "code",
   "execution_count": 30,
   "metadata": {},
   "outputs": [
    {
     "name": "stdout",
     "output_type": "stream",
     "text": [
      "[ 0.17926625  0.80931996  0.45614337 ... -0.00870507  0.1068024\n",
      "  0.44539183]\n",
      "RMSE: 0.34\n",
      "R2: 0.66\n"
     ]
    }
   ],
   "source": [
    "# LinearRegression for unscaled data\n",
    "\n",
    "# Declare features and target\n",
    "X = df[['age', 'gender', 'income', 'family_members']].to_numpy()\n",
    "y = df['insurance_benefits'].to_numpy()\n",
    "\n",
    "# Split the data\n",
    "X_train, X_test, y_train, y_test = train_test_split(X, y, test_size=0.3, random_state=12345)\n",
    "\n",
    "# Create instance of LR model\n",
    "lr = MyLinearRegression()\n",
    "\n",
    "# Fit the linear regression model\n",
    "lr.fit(X_train, y_train)\n",
    "\n",
    "# Make predictions on the test set\n",
    "y_test_pred = lr.predict(X_test)\n",
    "print(y_test_pred)\n",
    "\n",
    "# Evaluate the regression model\n",
    "eval_regressor(y_test, y_test_pred)"
   ]
  },
  {
   "cell_type": "code",
   "execution_count": 31,
   "metadata": {
    "scrolled": true
   },
   "outputs": [
    {
     "name": "stdout",
     "output_type": "stream",
     "text": [
      "[ 0.17926625  0.80931996  0.45614337 ... -0.00870507  0.1068024\n",
      "  0.44539183]\n",
      "RMSE: 0.34\n",
      "R2: 0.66\n"
     ]
    }
   ],
   "source": [
    "# LinearRegression for scaled data\n",
    "\n",
    "# Declare features and target\n",
    "X = df[['age', 'gender', 'income', 'family_members']].to_numpy()\n",
    "y = df['insurance_benefits'].to_numpy()\n",
    "\n",
    "# Split the data\n",
    "X_train, X_test, y_train, y_test = train_test_split(X, y, test_size=0.3, random_state=12345)\n",
    "\n",
    "# Scale the features\n",
    "scaler = sklearn.preprocessing.StandardScaler()\n",
    "scaler.fit_transform(X_train)\n",
    "\n",
    "X_train_scaled = scaler.transform(X_train)\n",
    "X_test_scaled = scaler.transform(X_test)\n",
    "\n",
    "# Create instance of LR model\n",
    "lr = MyLinearRegression()\n",
    "\n",
    "# Fit the linear regression model\n",
    "lr.fit(X_train_scaled, y_train)\n",
    "\n",
    "# Make predictions on the test set\n",
    "y_test_pred = lr.predict(X_test_scaled)\n",
    "print(y_test_pred)\n",
    "\n",
    "# Evaluate the regression model\n",
    "eval_regressor(y_test, y_test_pred)"
   ]
  },
  {
   "cell_type": "markdown",
   "metadata": {},
   "source": [
    "**Findings:** The Root Mean Squared Error (RMSE) values remain consistent regardless of whether linear regression is applied to scaled or unscaled data."
   ]
  },
  {
   "cell_type": "markdown",
   "metadata": {},
   "source": [
    "### Task 4: Obfuscating Data"
   ]
  },
  {
   "cell_type": "markdown",
   "metadata": {},
   "source": [
    "Data obfuscation is optimally achieved by multiplying the numerical features, represented as matrix $X$, with an invertible matrix $P$:\n",
    "\n",
    "$$\n",
    "X' = X \\times P\n",
    "$$\n",
    "\n",
    "Executing this transformation will alter the values of the features. It is imperative to verify that $P$ is indeed invertible."
   ]
  },
  {
   "cell_type": "code",
   "execution_count": 32,
   "metadata": {},
   "outputs": [],
   "source": [
    "personal_info_column_list = ['gender', 'age', 'income', 'family_members']\n",
    "df_pn = df[personal_info_column_list]\n"
   ]
  },
  {
   "cell_type": "code",
   "execution_count": 33,
   "metadata": {},
   "outputs": [],
   "source": [
    "# Create Matrix X\n",
    "\n",
    "X = df_pn.to_numpy()"
   ]
  },
  {
   "cell_type": "code",
   "execution_count": 34,
   "metadata": {},
   "outputs": [
    {
     "data": {
      "text/plain": [
       "array([[1.00e+00, 4.10e+01, 4.96e+04, 1.00e+00],\n",
       "       [0.00e+00, 4.60e+01, 3.80e+04, 1.00e+00],\n",
       "       [0.00e+00, 2.90e+01, 2.10e+04, 0.00e+00],\n",
       "       ...,\n",
       "       [0.00e+00, 2.00e+01, 3.39e+04, 2.00e+00],\n",
       "       [1.00e+00, 2.20e+01, 3.27e+04, 3.00e+00],\n",
       "       [1.00e+00, 2.80e+01, 4.06e+04, 1.00e+00]])"
      ]
     },
     "execution_count": 34,
     "metadata": {},
     "output_type": "execute_result"
    }
   ],
   "source": [
    "# View Matrix X \n",
    "X"
   ]
  },
  {
   "cell_type": "code",
   "execution_count": 35,
   "metadata": {},
   "outputs": [],
   "source": [
    "# Create a random matrix P.\n",
    "\n",
    "rng = np.random.default_rng(seed=42)\n",
    "P = rng.random(size=(X.shape[1], X.shape[1]))"
   ]
  },
  {
   "cell_type": "code",
   "execution_count": 36,
   "metadata": {
    "scrolled": true
   },
   "outputs": [
    {
     "name": "stdout",
     "output_type": "stream",
     "text": [
      "Matrix P:\n",
      " [[0.77395605 0.43887844 0.85859792 0.69736803]\n",
      " [0.09417735 0.97562235 0.7611397  0.78606431]\n",
      " [0.12811363 0.45038594 0.37079802 0.92676499]\n",
      " [0.64386512 0.82276161 0.4434142  0.22723872]]\n",
      "\n",
      "Inverse Matrix P:\n",
      " [[ 0.41467992 -1.43783972  0.62798546  1.14001268]\n",
      " [-1.06101789  0.44219337  0.1329549   1.18425933]\n",
      " [ 1.42362442  1.60461607 -2.0553823  -1.53699695]\n",
      " [-0.11128575 -0.65813802  1.74995517 -0.11816316]]\n"
     ]
    }
   ],
   "source": [
    "# Check that Matrix P is invertible; if so, find the inverse\n",
    "\n",
    "try:\n",
    "    np.allclose(np.dot(P, np.linalg.inv(P)), np.eye(4))\n",
    "except:\n",
    "    print(\"Matrix P is not invertible\")\n",
    "else:\n",
    "    inverse_P = np.linalg.inv(P)\n",
    "    print('Matrix P:\\n', P)\n",
    "    print()\n",
    "    print('Inverse Matrix P:\\n', inverse_P)\n",
    "    "
   ]
  },
  {
   "cell_type": "code",
   "execution_count": 37,
   "metadata": {},
   "outputs": [],
   "source": [
    "# Transform Matrix X, save to variable\n",
    "\n",
    "X_transformed = np.dot(X, P)"
   ]
  },
  {
   "cell_type": "markdown",
   "metadata": {},
   "source": [
    "**Question:** Can you guess the customers' ages or income after the transformation?\n",
    "\n",
    "**Response:** Following the transformation (as seen below), it is not possible to discern income or age. The income values change severely and the age values are now in the thousands, a scale not representative of human ages."
   ]
  },
  {
   "cell_type": "code",
   "execution_count": 38,
   "metadata": {
    "scrolled": true
   },
   "outputs": [
    {
     "name": "stdout",
     "output_type": "stream",
     "text": [
      "[[ 6359.71527314 22380.40467609 18424.09074184 46000.69669016]\n",
      " [ 4873.29406479 17160.36702982 14125.78076133 35253.45577301]\n",
      " [ 2693.11742928  9486.397744    7808.83156024 19484.86063067]\n",
      " [ 5345.60393712 18803.22720286 15479.14837264 38663.06186284]\n",
      " [ 3347.17673462 11782.82928336  9699.99894205 24211.27337753]]\n"
     ]
    }
   ],
   "source": [
    "# View first 5 rows of Matrix X'\n",
    "\n",
    "print(X_transformed[:5])"
   ]
  },
  {
   "cell_type": "markdown",
   "metadata": {},
   "source": [
    "**Question:** Can you recover the original data from $X'$ if you know $P$? Try to check that with calculations by moving $P$ from the right side of the formula above to the left one. The rules of matrix multiplcation are really helpful here.\n",
    "\n",
    "**Response:** Original data was recovered by multiplying the inverse of $P$ by $X'$"
   ]
  },
  {
   "cell_type": "code",
   "execution_count": 39,
   "metadata": {},
   "outputs": [],
   "source": [
    "# Recover the original data from the transfromed matrix\n",
    "\n",
    "X_recovered = np.dot(X_transformed, inverse_P)"
   ]
  },
  {
   "cell_type": "code",
   "execution_count": 40,
   "metadata": {},
   "outputs": [
    {
     "name": "stdout",
     "output_type": "stream",
     "text": [
      "Is the original data recovered accurately?  Yes \n",
      "\n"
     ]
    }
   ],
   "source": [
    "# Print original data and recovered data for comparison\n",
    "\n",
    "print('Is the original data recovered accurately? ', 'Yes' if np.allclose(X, X_recovered) else 'No', '\\n')"
   ]
  },
  {
   "cell_type": "code",
   "execution_count": 41,
   "metadata": {},
   "outputs": [
    {
     "name": "stdout",
     "output_type": "stream",
     "text": [
      "Original data (first 5 rows):\n",
      " [[1.00e+00 4.10e+01 4.96e+04 1.00e+00]\n",
      " [0.00e+00 4.60e+01 3.80e+04 1.00e+00]\n",
      " [0.00e+00 2.90e+01 2.10e+04 0.00e+00]\n",
      " [0.00e+00 2.10e+01 4.17e+04 2.00e+00]\n",
      " [1.00e+00 2.80e+01 2.61e+04 0.00e+00]]\n",
      "\n",
      "Transformed data (first 5 rows):\n",
      " [[ 6359.71527314 22380.40467609 18424.09074184 46000.69669016]\n",
      " [ 4873.29406479 17160.36702982 14125.78076133 35253.45577301]\n",
      " [ 2693.11742928  9486.397744    7808.83156024 19484.86063067]\n",
      " [ 5345.60393712 18803.22720286 15479.14837264 38663.06186284]\n",
      " [ 3347.17673462 11782.82928336  9699.99894205 24211.27337753]]\n",
      "\n",
      "Recovered data (first 5 rows):\n",
      " [[ 1.00000000e+00  4.10000000e+01  4.96000000e+04  1.00000000e+00]\n",
      " [-4.47363596e-12  4.60000000e+01  3.80000000e+04  1.00000000e+00]\n",
      " [-2.51586878e-12  2.90000000e+01  2.10000000e+04  9.52452315e-13]\n",
      " [-4.84498208e-12  2.10000000e+01  4.17000000e+04  2.00000000e+00]\n",
      " [ 1.00000000e+00  2.80000000e+01  2.61000000e+04 -1.01990740e-13]]\n"
     ]
    }
   ],
   "source": [
    "# Print all three cases for a few customers\n",
    "\n",
    "print('Original data (first 5 rows):\\n', X[:5])\n",
    "print()\n",
    "print('Transformed data (first 5 rows):\\n', X_transformed[:5])\n",
    "print()\n",
    "print('Recovered data (first 5 rows):\\n', X_recovered[:5])"
   ]
  },
  {
   "cell_type": "markdown",
   "metadata": {},
   "source": [
    "**Question:** You can probably see that some values are not exactly the same as they are in the original data. What might be the reason for that?\n",
    "\n",
    "**Response:** Several factors could account for the disparity between the original and recovered data:\n",
    "1. Loss of information during transformation might have taken place.\n",
    "2. Rounding or precision issues can arise from floating-point calculations, particularly noticeable with data of high precision. For instance, many of the discrepancies involve extremely low or high values, such as -4.47363596e-12 or 9.52452315e-13, instead of 0.00e+00."
   ]
  },
  {
   "cell_type": "markdown",
   "metadata": {},
   "source": [
    "#### Proof That Data Obfuscation Can Work with LR"
   ]
  },
  {
   "cell_type": "markdown",
   "metadata": {},
   "source": [
    "Linear regression has been employed to solve the regression task. The next step is to analytically establish that the given obfuscation method will not alter linear regression in terms of predicted values; specifically, the values will remain constant. This assertion requires substantiation rather than mere belief."
   ]
  },
  {
   "cell_type": "markdown",
   "metadata": {},
   "source": [
    "Given that the data is obfuscated, represented as $X \\times P$ rather than just $X$, additional weights $w_P$ are introduced as:\n",
    "\n",
    "$$w=(X^TX)^−1 X^Ty   ⇒  w_P=[(XP)^T XP]^−1(XP)^Ty$$\n",
    "\n",
    "Upon simplification of the formula for $w_P$, how are $w$ and $w_P$ related? What are the predicted values with $w_P$? And what implications does this have for the quality of linear regression when measured by RMSE?"
   ]
  },
  {
   "cell_type": "markdown",
   "metadata": {},
   "source": [
    "**Analytical proof**"
   ]
  },
  {
   "cell_type": "markdown",
   "metadata": {},
   "source": [
    "To link the weights $w$ and $w_P$, and to understand the implications on predicted values and the quality of linear regression, let's simplify the expression for $w_P$.\n",
    "\n",
    "**Simplification of $w_P$**\n",
    "\n",
    "**Given:**\n",
    "$w_P = [(XP)^T XP]^{-1} (XP)^T y$\n",
    "\n",
    "First, let's denote $X_P = XP$. Then,\n",
    "$w_P = (X_P^T X_P)^{-1} X_P^T y$\n",
    "\n",
    "Using $ X_P = XP $, we can rewrite this as:\n",
    "$w_P = [(XP)^T (XP)]^{-1} (XP)^T y$\n",
    "\n",
    "Expanding this, we have:\n",
    "$w_P = (P^T X^T XP)^{-1} P^T X^T y$\n",
    "\n",
    "Since $P^T X^T XP$ can be factored as $P^T (X^T X) P$, we get:\n",
    "$w_P = [P^T (X^T X) P]^{-1} P^T X^T y$\n",
    "\n",
    "Now, applying the matrix inversion lemma:\n",
    "$[P^T (X^T X) P]^{-1} = P^{-1} (X^T X)^{-1} (P^T)^{-1}$\n",
    "\n",
    "Thus,\n",
    "$w_P = P^{-1} (X^T X)^{-1} (P^T)^{-1} P^T X^T y$\n",
    "\n",
    "Since $(P^T)^{-1} P^T = I$ (identity matrix), this simplifies to:\n",
    "$w_P = P^{-1} (X^T X)^{-1} X^T y$\n",
    "\n",
    "And we know that $w = (X^T X)^{-1} X^T y$, so:\n",
    "$w_P = P^{-1} w$\n",
    "\n",
    "**Predicted Values with $w_P$**\n",
    "\n",
    "To make predictions using $w_P$, we need to use the transformed feature matrix $X_P$.\n",
    "\n",
    "The predicted values using $w_P$ are given by:\n",
    "$\\hat{y}_P = X_P w_P$\n",
    "\n",
    "Substituting $X_P = XP$ and $w_P = P^{-1} w$, we get:\n",
    "$\\hat{y}_P = XP (P^{-1} w)$\n",
    "\n",
    "Since $P P^{-1} = I$ (identity matrix), this simplifies to:\n",
    "$\\hat{y}_P = X w$\n",
    "\n",
    "Therefore, the predicted values using $w_P$ are:\n",
    "$\\hat{y}_P = \\hat{y}$\n",
    "\n",
    "**Implications for the Quality of Linear Regression (RMSE)**\n",
    "\n",
    "The Root Mean Squared Error (RMSE) is a measure of the differences between the values predicted by the model and the actual values observed. It is given by:\n",
    "$\\text{RMSE} = \\sqrt{\\frac{1}{n} \\sum_{i=1}^n (y_i - \\hat{y}_i)^2}$\n",
    "\n",
    "Since we have shown that the predicted values $\\hat{y}_P$ are the same as the predicted values $\\hat{y}$ from the original model when using the transformed feature matrix $X_P$, the RMSE for both models will be the same.\n",
    "\n",
    "**Conclusion**\n",
    "\n",
    "The transformation using $P$ doesn't change the predicted values of the model when using the transformed feature matrix $X_P$. Hence, the quality of linear regression measured by RMSE remains unchanged. The weights $w_P$ are related to the original weights $w$ by $w_P = P^{-1} w$. This transformation effectively reparameterizes the problem without affecting the predictions or the RMSE when the transformed feature matrix is used.\n",
    "\n",
    "However, if we attempt to make predictions using $ w_P$ with the original feature matrix $X$ (without applying $P $), the results will not be the same unless $P$ is an identity matrix. This is because:\n",
    "$X w_P = X P^{-1} w \\neq X w $\n",
    "\n",
    "Therefore, to ensure the predictions remain the same, we must use the transformed feature matrix $X_P$ when using $ w_P $.\n",
    "\n"
   ]
  },
  {
   "cell_type": "markdown",
   "metadata": {},
   "source": [
    "#### Test Linear Regression With Data Obfuscation"
   ]
  },
  {
   "cell_type": "markdown",
   "metadata": {},
   "source": [
    "To demonstrate the computational viability of Linear Regression with the chosen obfuscation transformation, we will:\n",
    "1. Develop a procedure or class capable of running Linear Regression, optionally incorporating the obfuscation.\n",
    "2. Apply Linear Regression to both the original dataset and the obfuscated dataset.\n",
    "3. Compare the predicted values and evaluate the Root Mean Square Error (RMSE) and coefficient of determination ($R^2$) metrics for any differences."
   ]
  },
  {
   "cell_type": "code",
   "execution_count": 42,
   "metadata": {},
   "outputs": [
    {
     "name": "stdout",
     "output_type": "stream",
     "text": [
      "RMSE: 0.34\n",
      "R2: 0.66\n"
     ]
    }
   ],
   "source": [
    "# Linear Regression without Data Obfuscation\n",
    "\n",
    "# Train model with obfuscated data\n",
    "model = MyLinearRegression()\n",
    "\n",
    "# Fit the linear regression model\n",
    "model.fit(X_train, y_train)\n",
    "\n",
    "# Make predictions on the test set\n",
    "y_test_pred = model.predict(X_test)\n",
    "\n",
    "# Evaluate the model\n",
    "eval_regressor(y_test, y_test_pred)"
   ]
  },
  {
   "cell_type": "code",
   "execution_count": 43,
   "metadata": {},
   "outputs": [],
   "source": [
    "# Create a square matrix of random numbers\n",
    "\n",
    "rng = np.random.default_rng(seed=50)\n",
    "P = rng.random(size=(X.shape[1], X.shape[1]))"
   ]
  },
  {
   "cell_type": "code",
   "execution_count": 44,
   "metadata": {},
   "outputs": [
    {
     "data": {
      "text/plain": [
       "True"
      ]
     },
     "execution_count": 44,
     "metadata": {},
     "output_type": "execute_result"
    }
   ],
   "source": [
    "np.allclose((P.dot(np.linalg.inv(P))), np.eye(4))"
   ]
  },
  {
   "cell_type": "code",
   "execution_count": 45,
   "metadata": {
    "scrolled": true
   },
   "outputs": [
    {
     "name": "stdout",
     "output_type": "stream",
     "text": [
      "RMSE: 0.34\n",
      "R2: 0.66\n"
     ]
    }
   ],
   "source": [
    "# Linear Regression with Data Obfuscation\n",
    "\n",
    "# Create matrix XP\n",
    "XP_train = X_train.dot(P)\n",
    "XP_test = X_test.dot(P)\n",
    "\n",
    "# Train model with obfuscated data\n",
    "model = MyLinearRegression()\n",
    "\n",
    "# Fit the linear regression model\n",
    "model.fit(XP_train, y_train)\n",
    "\n",
    "# Make predictions on the test set\n",
    "y_test_pred_obfs = model.predict(XP_test)\n",
    "\n",
    "# Evaluate the model\n",
    "eval_regressor(y_test, y_test_pred_obfs)"
   ]
  },
  {
   "cell_type": "markdown",
   "metadata": {},
   "source": [
    "**Findings:** The RMSE and $R^2$ values obtained from running a linear regression on data with and without obfuscation proved to be identical to each other. There was absolutely no difference whether the data was obfuscated or not."
   ]
  },
  {
   "cell_type": "markdown",
   "metadata": {},
   "source": [
    "## Conclusions"
   ]
  },
  {
   "cell_type": "markdown",
   "metadata": {},
   "source": [
    "**Conclusion:**\n",
    "\n",
    "When identifying customers most similar to a specific customer (customer at index 5), the Euclidean distance method provided the most accurate results. Particularly, when the data was scaled and Euclidean distance was applied, the outcomes were highly precise.\n",
    "\n",
    "Regarding the prediction of whether a customer is likely to receive insurance benefits, the data suggests a high likelihood of receiving benefits. Evaluations using both scaled data yielded relatively high F1 scores (the lowest being 0.88), while using unscaled data provided realtively low results, indicating the model's strong accuracy when using scaled data. The model is fairly accurate when prediciting whether or not the user will get insurance benefits.\n",
    "\n",
    "For predicting the number of insurance benefits a new customer is likely to receive, a linear regression model was used. This model achieved an RMSE score of 0.34 and an R² score of 0.66. Notably, when the data was obfuscated, the results remained consistent, demonstrating that protecting user data did not compromise the model's integrity."
   ]
  },
  {
   "cell_type": "markdown",
   "metadata": {},
   "source": [
    "## Appendices "
   ]
  },
  {
   "cell_type": "markdown",
   "metadata": {},
   "source": [
    "### Appendix B: Properties of Matrices"
   ]
  },
  {
   "cell_type": "markdown",
   "metadata": {},
   "source": [
    "Matrices possess numerous properties in Linear Algebra. Several of these properties are outlined here to assist with the analytical proof in this project."
   ]
  },
  {
   "cell_type": "markdown",
   "metadata": {},
   "source": [
    "<table>\n",
    "<tr>\n",
    "<td>Distributivity</td><td>$A(B+C)=AB+AC$</td>\n",
    "</tr>\n",
    "<tr>\n",
    "<td>Non-commutativity</td><td>$AB \\neq BA$</td>\n",
    "</tr>\n",
    "<tr>\n",
    "<td>Associative property of multiplication</td><td>$(AB)C = A(BC)$</td>\n",
    "</tr>\n",
    "<tr>\n",
    "<td>Multiplicative identity property</td><td>$IA = AI = A$</td>\n",
    "</tr>\n",
    "<tr>\n",
    "<td></td><td>$A^{-1}A = AA^{-1} = I$\n",
    "</td>\n",
    "</tr>    \n",
    "<tr>\n",
    "<td></td><td>$(AB)^{-1} = B^{-1}A^{-1}$</td>\n",
    "</tr>    \n",
    "<tr>\n",
    "<td>Reversivity of the transpose of a product of matrices,</td><td>$(AB)^T = B^TA^T$</td>\n",
    "</tr>    \n",
    "</table>"
   ]
  }
 ],
 "metadata": {
  "ExecuteTimeLog": [
   {
    "duration": 5482,
    "start_time": "2024-06-04T18:53:13.978Z"
   },
   {
    "duration": 18,
    "start_time": "2024-06-04T18:53:20.789Z"
   },
   {
    "duration": 6,
    "start_time": "2024-06-04T18:53:52.293Z"
   },
   {
    "duration": 22,
    "start_time": "2024-06-04T18:53:53.729Z"
   },
   {
    "duration": 10,
    "start_time": "2024-06-04T18:55:20.104Z"
   },
   {
    "duration": 8,
    "start_time": "2024-06-04T18:55:23.783Z"
   },
   {
    "duration": 12,
    "start_time": "2024-06-04T18:55:51.183Z"
   },
   {
    "duration": 11,
    "start_time": "2024-06-04T18:56:02.953Z"
   },
   {
    "duration": 7,
    "start_time": "2024-06-04T18:56:06.928Z"
   },
   {
    "duration": 6,
    "start_time": "2024-06-04T18:56:13.227Z"
   },
   {
    "duration": 11,
    "start_time": "2024-06-04T18:56:18.170Z"
   },
   {
    "duration": 16,
    "start_time": "2024-06-04T18:56:34.156Z"
   },
   {
    "duration": 17,
    "start_time": "2024-06-04T18:56:37.111Z"
   },
   {
    "duration": 5552,
    "start_time": "2024-06-04T18:58:46.460Z"
   },
   {
    "duration": 5,
    "start_time": "2024-06-04T18:59:19.499Z"
   },
   {
    "duration": 19,
    "start_time": "2024-06-04T18:59:19.726Z"
   },
   {
    "duration": 16,
    "start_time": "2024-06-04T19:00:01.269Z"
   },
   {
    "duration": 16,
    "start_time": "2024-06-04T19:00:02.151Z"
   },
   {
    "duration": 14,
    "start_time": "2024-06-04T19:00:19.226Z"
   },
   {
    "duration": 9,
    "start_time": "2024-06-04T19:01:47.775Z"
   },
   {
    "duration": 19,
    "start_time": "2024-06-04T19:01:58.387Z"
   },
   {
    "duration": 5,
    "start_time": "2024-06-04T19:02:07.455Z"
   },
   {
    "duration": 20,
    "start_time": "2024-06-04T19:02:11.365Z"
   },
   {
    "duration": 15,
    "start_time": "2024-06-04T19:02:16.988Z"
   },
   {
    "duration": 6,
    "start_time": "2024-06-04T19:04:31.747Z"
   },
   {
    "duration": 8,
    "start_time": "2024-06-04T19:04:50.916Z"
   },
   {
    "duration": 6,
    "start_time": "2024-06-04T19:04:54.874Z"
   },
   {
    "duration": 6,
    "start_time": "2024-06-04T19:06:18.724Z"
   },
   {
    "duration": 15,
    "start_time": "2024-06-04T19:07:08.818Z"
   },
   {
    "duration": 15,
    "start_time": "2024-06-04T19:07:33.166Z"
   },
   {
    "duration": 34,
    "start_time": "2024-06-04T19:10:30.365Z"
   },
   {
    "duration": 9,
    "start_time": "2024-06-04T19:13:30.355Z"
   },
   {
    "duration": 4,
    "start_time": "2024-06-04T19:33:47.319Z"
   },
   {
    "duration": 4,
    "start_time": "2024-06-04T19:33:53.388Z"
   },
   {
    "duration": 7,
    "start_time": "2024-06-04T19:36:48.696Z"
   },
   {
    "duration": 15,
    "start_time": "2024-06-04T19:36:50.815Z"
   },
   {
    "duration": 15,
    "start_time": "2024-06-04T19:36:53.321Z"
   },
   {
    "duration": 771,
    "start_time": "2024-06-04T19:46:22.875Z"
   },
   {
    "duration": 6,
    "start_time": "2024-06-04T19:46:26.933Z"
   },
   {
    "duration": 17,
    "start_time": "2024-06-04T19:46:27.205Z"
   },
   {
    "duration": 17,
    "start_time": "2024-06-04T19:46:27.606Z"
   },
   {
    "duration": 133,
    "start_time": "2024-06-04T19:46:28.497Z"
   },
   {
    "duration": 6,
    "start_time": "2024-06-04T19:47:19.210Z"
   },
   {
    "duration": 16,
    "start_time": "2024-06-04T19:47:19.222Z"
   },
   {
    "duration": 16,
    "start_time": "2024-06-04T19:47:19.719Z"
   },
   {
    "duration": 136,
    "start_time": "2024-06-04T19:47:20.239Z"
   },
   {
    "duration": 7,
    "start_time": "2024-06-04T19:48:42.023Z"
   },
   {
    "duration": 13,
    "start_time": "2024-06-04T19:48:42.371Z"
   },
   {
    "duration": 14,
    "start_time": "2024-06-04T19:48:42.501Z"
   },
   {
    "duration": 133,
    "start_time": "2024-06-04T19:48:44.013Z"
   },
   {
    "duration": 6,
    "start_time": "2024-06-04T19:50:23.344Z"
   },
   {
    "duration": 14,
    "start_time": "2024-06-04T19:50:23.572Z"
   },
   {
    "duration": 14,
    "start_time": "2024-06-04T19:50:23.805Z"
   },
   {
    "duration": 32,
    "start_time": "2024-06-04T19:50:24.621Z"
   },
   {
    "duration": 22,
    "start_time": "2024-06-04T19:51:25.876Z"
   },
   {
    "duration": 26,
    "start_time": "2024-06-04T19:52:15.505Z"
   },
   {
    "duration": 41,
    "start_time": "2024-06-04T19:52:16.376Z"
   },
   {
    "duration": 39,
    "start_time": "2024-06-04T19:54:46.892Z"
   },
   {
    "duration": 36,
    "start_time": "2024-06-04T19:55:03.358Z"
   },
   {
    "duration": 27,
    "start_time": "2024-06-04T19:58:19.486Z"
   },
   {
    "duration": 24,
    "start_time": "2024-06-04T19:58:20.138Z"
   },
   {
    "duration": 7,
    "start_time": "2024-06-04T20:00:15.826Z"
   },
   {
    "duration": 16,
    "start_time": "2024-06-04T20:00:16.019Z"
   },
   {
    "duration": 16,
    "start_time": "2024-06-04T20:00:16.245Z"
   },
   {
    "duration": 39,
    "start_time": "2024-06-04T20:00:16.656Z"
   },
   {
    "duration": 30,
    "start_time": "2024-06-04T20:00:17.192Z"
   },
   {
    "duration": 37,
    "start_time": "2024-06-04T20:00:18.404Z"
   },
   {
    "duration": 38,
    "start_time": "2024-06-04T20:00:18.897Z"
   },
   {
    "duration": 27089,
    "start_time": "2024-06-04T20:06:38.554Z"
   },
   {
    "duration": 105480,
    "start_time": "2024-06-04T20:13:16.835Z"
   },
   {
    "duration": 302582,
    "start_time": "2024-06-04T20:15:04.603Z"
   },
   {
    "duration": 6294,
    "start_time": "2024-06-04T20:20:07.188Z"
   },
   {
    "duration": 7201,
    "start_time": "2024-06-04T20:20:13.485Z"
   },
   {
    "duration": 52,
    "start_time": "2024-06-04T20:25:17.343Z"
   },
   {
    "duration": 90,
    "start_time": "2024-06-04T20:26:14.504Z"
   },
   {
    "duration": 81,
    "start_time": "2024-06-04T20:26:34.014Z"
   },
   {
    "duration": 80,
    "start_time": "2024-06-04T20:26:58.906Z"
   },
   {
    "duration": 79,
    "start_time": "2024-06-04T20:27:22.666Z"
   },
   {
    "duration": 81,
    "start_time": "2024-06-04T20:27:52.100Z"
   },
   {
    "duration": 31,
    "start_time": "2024-06-04T20:29:11.492Z"
   },
   {
    "duration": 46,
    "start_time": "2024-06-04T20:30:18.168Z"
   },
   {
    "duration": 87,
    "start_time": "2024-06-04T20:30:50.908Z"
   },
   {
    "duration": 95,
    "start_time": "2024-06-04T20:31:57.328Z"
   },
   {
    "duration": 80,
    "start_time": "2024-06-04T20:32:02.650Z"
   },
   {
    "duration": 78,
    "start_time": "2024-06-04T20:32:18.311Z"
   },
   {
    "duration": 85,
    "start_time": "2024-06-04T20:32:31.274Z"
   },
   {
    "duration": 81,
    "start_time": "2024-06-04T20:32:34.767Z"
   },
   {
    "duration": 3,
    "start_time": "2024-06-04T20:41:25.713Z"
   },
   {
    "duration": 7,
    "start_time": "2024-06-04T20:41:26.632Z"
   },
   {
    "duration": 15,
    "start_time": "2024-06-04T20:41:27.244Z"
   },
   {
    "duration": 14,
    "start_time": "2024-06-04T20:41:27.477Z"
   },
   {
    "duration": 80,
    "start_time": "2024-06-04T20:41:27.773Z"
   },
   {
    "duration": 9,
    "start_time": "2024-06-04T20:44:39.888Z"
   },
   {
    "duration": 16,
    "start_time": "2024-06-04T20:44:40.045Z"
   },
   {
    "duration": 17,
    "start_time": "2024-06-04T20:44:40.276Z"
   },
   {
    "duration": 91,
    "start_time": "2024-06-04T20:44:40.545Z"
   },
   {
    "duration": 87,
    "start_time": "2024-06-04T20:45:47.608Z"
   },
   {
    "duration": 6,
    "start_time": "2024-06-04T20:55:30.221Z"
   },
   {
    "duration": 5,
    "start_time": "2024-06-04T20:55:33.197Z"
   },
   {
    "duration": 9,
    "start_time": "2024-06-04T20:55:34.706Z"
   },
   {
    "duration": 11,
    "start_time": "2024-06-04T20:56:39.150Z"
   },
   {
    "duration": 22,
    "start_time": "2024-06-04T20:56:49.793Z"
   },
   {
    "duration": 10,
    "start_time": "2024-06-04T20:57:31.528Z"
   },
   {
    "duration": 23,
    "start_time": "2024-06-04T20:57:35.377Z"
   },
   {
    "duration": 5,
    "start_time": "2024-06-04T20:57:42.443Z"
   },
   {
    "duration": 21,
    "start_time": "2024-06-04T20:57:42.624Z"
   },
   {
    "duration": 7,
    "start_time": "2024-06-04T21:02:32.656Z"
   },
   {
    "duration": 25,
    "start_time": "2024-06-04T21:02:36.585Z"
   },
   {
    "duration": 7,
    "start_time": "2024-06-04T21:03:07.203Z"
   },
   {
    "duration": 22,
    "start_time": "2024-06-04T21:03:07.999Z"
   },
   {
    "duration": 10,
    "start_time": "2024-06-04T21:04:14.703Z"
   },
   {
    "duration": 5,
    "start_time": "2024-06-04T21:05:10.973Z"
   },
   {
    "duration": 4,
    "start_time": "2024-06-04T21:05:17.054Z"
   },
   {
    "duration": 6,
    "start_time": "2024-06-04T21:08:16.747Z"
   },
   {
    "duration": 15,
    "start_time": "2024-06-04T21:08:17.232Z"
   },
   {
    "duration": 6,
    "start_time": "2024-06-04T21:08:17.656Z"
   },
   {
    "duration": 17,
    "start_time": "2024-06-04T21:08:18.053Z"
   },
   {
    "duration": 11,
    "start_time": "2024-06-04T21:08:18.203Z"
   },
   {
    "duration": 18,
    "start_time": "2024-06-04T21:08:18.598Z"
   },
   {
    "duration": 7,
    "start_time": "2024-06-04T21:08:18.769Z"
   },
   {
    "duration": 22,
    "start_time": "2024-06-04T21:08:18.934Z"
   },
   {
    "duration": 37,
    "start_time": "2024-06-04T21:08:19.137Z"
   },
   {
    "duration": 6603,
    "start_time": "2024-06-04T21:08:19.523Z"
   },
   {
    "duration": 5,
    "start_time": "2024-06-04T21:08:26.130Z"
   },
   {
    "duration": 11,
    "start_time": "2024-06-04T21:08:26.140Z"
   },
   {
    "duration": 19,
    "start_time": "2024-06-04T21:08:26.155Z"
   },
   {
    "duration": 47,
    "start_time": "2024-06-04T21:08:26.182Z"
   },
   {
    "duration": 137,
    "start_time": "2024-06-04T21:08:26.234Z"
   },
   {
    "duration": 21,
    "start_time": "2024-06-04T21:16:24.846Z"
   },
   {
    "duration": 22,
    "start_time": "2024-06-04T21:16:54.586Z"
   },
   {
    "duration": 7,
    "start_time": "2024-06-04T21:16:55.155Z"
   },
   {
    "duration": 26,
    "start_time": "2024-06-04T21:17:00.263Z"
   },
   {
    "duration": 5,
    "start_time": "2024-06-04T21:19:43.927Z"
   },
   {
    "duration": 7,
    "start_time": "2024-06-04T21:19:44.497Z"
   },
   {
    "duration": 8,
    "start_time": "2024-06-04T21:21:02.150Z"
   },
   {
    "duration": 23,
    "start_time": "2024-06-04T21:21:07.735Z"
   },
   {
    "duration": 6,
    "start_time": "2024-06-04T21:22:46.163Z"
   },
   {
    "duration": 11,
    "start_time": "2024-06-04T21:22:51.640Z"
   },
   {
    "duration": 21,
    "start_time": "2024-06-04T21:22:54.956Z"
   },
   {
    "duration": 11,
    "start_time": "2024-06-04T21:24:28.294Z"
   },
   {
    "duration": 8,
    "start_time": "2024-06-04T21:24:34.996Z"
   },
   {
    "duration": 9,
    "start_time": "2024-06-04T21:24:37.114Z"
   },
   {
    "duration": 10,
    "start_time": "2024-06-04T21:26:05.914Z"
   },
   {
    "duration": 20,
    "start_time": "2024-06-04T21:26:47.055Z"
   },
   {
    "duration": 13,
    "start_time": "2024-06-04T21:26:55.231Z"
   },
   {
    "duration": 17,
    "start_time": "2024-06-04T21:27:03.201Z"
   },
   {
    "duration": 20,
    "start_time": "2024-06-04T21:27:14.751Z"
   },
   {
    "duration": 10,
    "start_time": "2024-06-04T21:27:16.049Z"
   },
   {
    "duration": 12,
    "start_time": "2024-06-04T21:27:16.322Z"
   },
   {
    "duration": 11,
    "start_time": "2024-06-04T21:27:20.802Z"
   },
   {
    "duration": 14,
    "start_time": "2024-06-04T21:30:48.156Z"
   },
   {
    "duration": 8,
    "start_time": "2024-06-04T21:30:48.404Z"
   },
   {
    "duration": 8,
    "start_time": "2024-06-04T21:30:48.659Z"
   },
   {
    "duration": 10,
    "start_time": "2024-06-04T21:30:49.191Z"
   },
   {
    "duration": 9,
    "start_time": "2024-06-04T21:31:00.522Z"
   },
   {
    "duration": 16,
    "start_time": "2024-06-04T21:31:00.719Z"
   },
   {
    "duration": 15,
    "start_time": "2024-06-04T21:31:00.889Z"
   },
   {
    "duration": 27,
    "start_time": "2024-06-04T21:31:05.433Z"
   },
   {
    "duration": 12,
    "start_time": "2024-06-04T21:31:25.467Z"
   },
   {
    "duration": 19,
    "start_time": "2024-06-04T21:31:25.755Z"
   },
   {
    "duration": 10,
    "start_time": "2024-06-04T21:31:33.119Z"
   },
   {
    "duration": 1150,
    "start_time": "2024-06-04T21:33:52.079Z"
   },
   {
    "duration": 14,
    "start_time": "2024-06-04T21:34:16.712Z"
   },
   {
    "duration": 5,
    "start_time": "2024-06-04T21:34:17.206Z"
   },
   {
    "duration": 18,
    "start_time": "2024-06-04T21:34:23.791Z"
   },
   {
    "duration": 20,
    "start_time": "2024-06-04T21:35:41.800Z"
   },
   {
    "duration": 17,
    "start_time": "2024-06-04T21:35:47.705Z"
   },
   {
    "duration": 5,
    "start_time": "2024-06-04T21:38:13.025Z"
   },
   {
    "duration": 26,
    "start_time": "2024-06-04T21:39:08.319Z"
   },
   {
    "duration": 23,
    "start_time": "2024-06-04T21:39:11.725Z"
   },
   {
    "duration": 20,
    "start_time": "2024-06-04T21:39:16.177Z"
   },
   {
    "duration": 5205,
    "start_time": "2024-06-04T23:05:06.042Z"
   },
   {
    "duration": 16,
    "start_time": "2024-06-04T23:05:11.251Z"
   },
   {
    "duration": 5,
    "start_time": "2024-06-04T23:05:11.269Z"
   },
   {
    "duration": 33,
    "start_time": "2024-06-04T23:05:11.277Z"
   },
   {
    "duration": 9,
    "start_time": "2024-06-04T23:05:11.314Z"
   },
   {
    "duration": 14,
    "start_time": "2024-06-04T23:05:11.326Z"
   },
   {
    "duration": 47,
    "start_time": "2024-06-04T23:05:11.344Z"
   },
   {
    "duration": 15,
    "start_time": "2024-06-04T23:05:11.394Z"
   },
   {
    "duration": 30,
    "start_time": "2024-06-04T23:05:11.413Z"
   },
   {
    "duration": 5293,
    "start_time": "2024-06-04T23:05:11.446Z"
   },
   {
    "duration": 8,
    "start_time": "2024-06-04T23:05:16.743Z"
   },
   {
    "duration": 8,
    "start_time": "2024-06-04T23:05:16.754Z"
   },
   {
    "duration": 29,
    "start_time": "2024-06-04T23:05:16.766Z"
   },
   {
    "duration": 14,
    "start_time": "2024-06-04T23:05:16.801Z"
   },
   {
    "duration": 598,
    "start_time": "2024-06-04T23:05:16.818Z"
   },
   {
    "duration": 0,
    "start_time": "2024-06-04T23:05:17.419Z"
   },
   {
    "duration": 0,
    "start_time": "2024-06-04T23:05:17.423Z"
   },
   {
    "duration": 0,
    "start_time": "2024-06-04T23:05:17.425Z"
   },
   {
    "duration": 0,
    "start_time": "2024-06-04T23:05:17.428Z"
   },
   {
    "duration": 0,
    "start_time": "2024-06-04T23:05:17.431Z"
   },
   {
    "duration": 0,
    "start_time": "2024-06-04T23:05:17.433Z"
   },
   {
    "duration": 7,
    "start_time": "2024-06-04T23:05:58.249Z"
   },
   {
    "duration": 17,
    "start_time": "2024-06-04T23:05:58.534Z"
   },
   {
    "duration": 15,
    "start_time": "2024-06-04T23:05:58.732Z"
   },
   {
    "duration": 47,
    "start_time": "2024-06-04T23:05:59.116Z"
   },
   {
    "duration": 6,
    "start_time": "2024-06-04T23:06:07.776Z"
   },
   {
    "duration": 14,
    "start_time": "2024-06-04T23:06:07.926Z"
   },
   {
    "duration": 15,
    "start_time": "2024-06-04T23:06:08.072Z"
   },
   {
    "duration": 85,
    "start_time": "2024-06-04T23:06:08.440Z"
   },
   {
    "duration": 6,
    "start_time": "2024-06-04T23:06:11.814Z"
   },
   {
    "duration": 8,
    "start_time": "2024-06-04T23:06:12.303Z"
   },
   {
    "duration": 9,
    "start_time": "2024-06-04T23:06:13.366Z"
   },
   {
    "duration": 20,
    "start_time": "2024-06-04T23:06:18.414Z"
   },
   {
    "duration": 4,
    "start_time": "2024-06-04T23:06:20.503Z"
   },
   {
    "duration": 5,
    "start_time": "2024-06-04T23:06:21.132Z"
   },
   {
    "duration": 235,
    "start_time": "2024-06-04T23:06:32.623Z"
   },
   {
    "duration": 100,
    "start_time": "2024-06-04T23:07:17.133Z"
   },
   {
    "duration": 9,
    "start_time": "2024-06-04T23:07:17.824Z"
   },
   {
    "duration": 6,
    "start_time": "2024-06-04T23:09:42.451Z"
   },
   {
    "duration": 6,
    "start_time": "2024-06-04T23:09:49.340Z"
   },
   {
    "duration": 9,
    "start_time": "2024-06-04T23:09:53.997Z"
   },
   {
    "duration": 6,
    "start_time": "2024-06-04T23:09:58.797Z"
   },
   {
    "duration": 103,
    "start_time": "2024-06-04T23:10:30.592Z"
   },
   {
    "duration": 313,
    "start_time": "2024-06-04T23:11:33.803Z"
   },
   {
    "duration": 6,
    "start_time": "2024-06-04T23:12:48.851Z"
   },
   {
    "duration": 4,
    "start_time": "2024-06-04T23:12:49.195Z"
   },
   {
    "duration": 924,
    "start_time": "2024-06-04T23:12:49.652Z"
   },
   {
    "duration": 903,
    "start_time": "2024-06-04T23:13:52.312Z"
   },
   {
    "duration": 6,
    "start_time": "2024-06-04T23:15:19.563Z"
   },
   {
    "duration": 8,
    "start_time": "2024-06-04T23:15:19.735Z"
   },
   {
    "duration": 8,
    "start_time": "2024-06-04T23:15:20.011Z"
   },
   {
    "duration": 20,
    "start_time": "2024-06-04T23:15:20.391Z"
   },
   {
    "duration": 5,
    "start_time": "2024-06-04T23:15:20.873Z"
   },
   {
    "duration": 4,
    "start_time": "2024-06-04T23:15:21.066Z"
   },
   {
    "duration": 1204,
    "start_time": "2024-06-04T23:15:21.328Z"
   },
   {
    "duration": 1290,
    "start_time": "2024-06-04T23:15:22.536Z"
   },
   {
    "duration": 4,
    "start_time": "2024-06-04T23:16:10.332Z"
   },
   {
    "duration": 4,
    "start_time": "2024-06-04T23:16:10.507Z"
   },
   {
    "duration": 207,
    "start_time": "2024-06-04T23:16:10.725Z"
   },
   {
    "duration": 0,
    "start_time": "2024-06-04T23:16:10.935Z"
   },
   {
    "duration": 6,
    "start_time": "2024-06-04T23:17:46.282Z"
   },
   {
    "duration": 7,
    "start_time": "2024-06-04T23:17:46.486Z"
   },
   {
    "duration": 15,
    "start_time": "2024-06-04T23:20:13.097Z"
   },
   {
    "duration": 21,
    "start_time": "2024-06-04T23:20:17.982Z"
   },
   {
    "duration": 793,
    "start_time": "2024-06-04T23:20:39.882Z"
   },
   {
    "duration": 6,
    "start_time": "2024-06-04T23:20:47.798Z"
   },
   {
    "duration": 80,
    "start_time": "2024-06-04T23:20:47.977Z"
   },
   {
    "duration": 13,
    "start_time": "2024-06-04T23:20:54.085Z"
   },
   {
    "duration": 15,
    "start_time": "2024-06-04T23:20:58.448Z"
   },
   {
    "duration": 78,
    "start_time": "2024-06-04T23:21:04.465Z"
   },
   {
    "duration": 5,
    "start_time": "2024-06-04T23:21:04.706Z"
   },
   {
    "duration": 4,
    "start_time": "2024-06-04T23:21:05.241Z"
   },
   {
    "duration": 27,
    "start_time": "2024-06-04T23:21:05.887Z"
   },
   {
    "duration": 209,
    "start_time": "2024-06-04T23:21:06.750Z"
   },
   {
    "duration": 6,
    "start_time": "2024-06-04T23:21:07.515Z"
   },
   {
    "duration": 1569,
    "start_time": "2024-06-04T23:21:45.334Z"
   },
   {
    "duration": 12,
    "start_time": "2024-06-04T23:21:46.907Z"
   },
   {
    "duration": 5,
    "start_time": "2024-06-04T23:21:46.922Z"
   },
   {
    "duration": 19,
    "start_time": "2024-06-04T23:21:46.932Z"
   },
   {
    "duration": 41,
    "start_time": "2024-06-04T23:21:46.954Z"
   },
   {
    "duration": 15,
    "start_time": "2024-06-04T23:21:46.999Z"
   },
   {
    "duration": 6,
    "start_time": "2024-06-04T23:21:47.018Z"
   },
   {
    "duration": 15,
    "start_time": "2024-06-04T23:21:47.027Z"
   },
   {
    "duration": 71,
    "start_time": "2024-06-04T23:21:47.045Z"
   },
   {
    "duration": 4966,
    "start_time": "2024-06-04T23:21:47.121Z"
   },
   {
    "duration": 5,
    "start_time": "2024-06-04T23:21:52.091Z"
   },
   {
    "duration": 8,
    "start_time": "2024-06-04T23:21:52.100Z"
   },
   {
    "duration": 17,
    "start_time": "2024-06-04T23:21:52.112Z"
   },
   {
    "duration": 15,
    "start_time": "2024-06-04T23:21:52.134Z"
   },
   {
    "duration": 85,
    "start_time": "2024-06-04T23:21:52.191Z"
   },
   {
    "duration": 6,
    "start_time": "2024-06-04T23:21:52.292Z"
   },
   {
    "duration": 7,
    "start_time": "2024-06-04T23:21:52.302Z"
   },
   {
    "duration": 14,
    "start_time": "2024-06-04T23:21:52.313Z"
   },
   {
    "duration": 6,
    "start_time": "2024-06-04T23:22:00.067Z"
   },
   {
    "duration": 7,
    "start_time": "2024-06-04T23:22:00.349Z"
   },
   {
    "duration": 14,
    "start_time": "2024-06-04T23:22:00.865Z"
   },
   {
    "duration": 1137,
    "start_time": "2024-06-04T23:22:01.413Z"
   },
   {
    "duration": 0,
    "start_time": "2024-06-04T23:22:02.554Z"
   },
   {
    "duration": 0,
    "start_time": "2024-06-04T23:22:02.556Z"
   },
   {
    "duration": 18,
    "start_time": "2024-06-04T23:22:20.872Z"
   },
   {
    "duration": 5,
    "start_time": "2024-06-04T23:22:21.671Z"
   },
   {
    "duration": 7,
    "start_time": "2024-06-04T23:22:22.767Z"
   },
   {
    "duration": 435,
    "start_time": "2024-06-04T23:22:23.337Z"
   },
   {
    "duration": 219,
    "start_time": "2024-06-04T23:22:38.486Z"
   },
   {
    "duration": 6,
    "start_time": "2024-06-04T23:23:27.145Z"
   },
   {
    "duration": 6,
    "start_time": "2024-06-04T23:23:27.367Z"
   },
   {
    "duration": 1087,
    "start_time": "2024-06-04T23:23:27.598Z"
   },
   {
    "duration": 1180,
    "start_time": "2024-06-04T23:23:30.632Z"
   },
   {
    "duration": 7,
    "start_time": "2024-06-04T23:23:33.810Z"
   },
   {
    "duration": 5234,
    "start_time": "2024-06-05T12:49:16.239Z"
   },
   {
    "duration": 20,
    "start_time": "2024-06-05T12:49:21.477Z"
   },
   {
    "duration": 5,
    "start_time": "2024-06-05T12:49:21.500Z"
   },
   {
    "duration": 37,
    "start_time": "2024-06-05T12:49:21.509Z"
   },
   {
    "duration": 9,
    "start_time": "2024-06-05T12:49:21.551Z"
   },
   {
    "duration": 15,
    "start_time": "2024-06-05T12:49:21.562Z"
   },
   {
    "duration": 7,
    "start_time": "2024-06-05T12:49:21.580Z"
   },
   {
    "duration": 57,
    "start_time": "2024-06-05T12:49:21.590Z"
   },
   {
    "duration": 31,
    "start_time": "2024-06-05T12:49:21.651Z"
   },
   {
    "duration": 5092,
    "start_time": "2024-06-05T12:49:21.685Z"
   },
   {
    "duration": 4,
    "start_time": "2024-06-05T12:49:26.780Z"
   },
   {
    "duration": 7,
    "start_time": "2024-06-05T12:49:26.788Z"
   },
   {
    "duration": 15,
    "start_time": "2024-06-05T12:49:26.798Z"
   },
   {
    "duration": 14,
    "start_time": "2024-06-05T12:49:26.834Z"
   },
   {
    "duration": 188,
    "start_time": "2024-06-05T12:49:26.850Z"
   },
   {
    "duration": 7,
    "start_time": "2024-06-05T12:49:27.041Z"
   },
   {
    "duration": 7,
    "start_time": "2024-06-05T12:49:27.052Z"
   },
   {
    "duration": 14,
    "start_time": "2024-06-05T12:49:27.063Z"
   },
   {
    "duration": 61,
    "start_time": "2024-06-05T12:49:27.080Z"
   },
   {
    "duration": 18,
    "start_time": "2024-06-05T12:49:33.421Z"
   },
   {
    "duration": 4,
    "start_time": "2024-06-05T12:49:34.009Z"
   },
   {
    "duration": 4,
    "start_time": "2024-06-05T12:49:34.622Z"
   },
   {
    "duration": 1049,
    "start_time": "2024-06-05T12:49:36.323Z"
   },
   {
    "duration": 1087,
    "start_time": "2024-06-05T12:49:41.254Z"
   },
   {
    "duration": 1108,
    "start_time": "2024-06-05T12:50:11.138Z"
   },
   {
    "duration": 1152,
    "start_time": "2024-06-05T12:51:09.482Z"
   },
   {
    "duration": 1018,
    "start_time": "2024-06-05T12:51:28.584Z"
   },
   {
    "duration": 1051,
    "start_time": "2024-06-05T12:52:19.963Z"
   },
   {
    "duration": 986,
    "start_time": "2024-06-05T12:53:05.143Z"
   },
   {
    "duration": 1046,
    "start_time": "2024-06-05T12:53:07.302Z"
   },
   {
    "duration": 5,
    "start_time": "2024-06-05T12:59:00.744Z"
   },
   {
    "duration": 19,
    "start_time": "2024-06-05T12:59:01.530Z"
   },
   {
    "duration": 4,
    "start_time": "2024-06-05T12:59:01.899Z"
   },
   {
    "duration": 4,
    "start_time": "2024-06-05T12:59:02.423Z"
   },
   {
    "duration": 13,
    "start_time": "2024-06-05T12:59:04.602Z"
   },
   {
    "duration": 987,
    "start_time": "2024-06-05T12:59:31.586Z"
   },
   {
    "duration": 1585,
    "start_time": "2024-06-05T13:00:57.417Z"
   },
   {
    "duration": 14,
    "start_time": "2024-06-05T13:00:59.006Z"
   },
   {
    "duration": 6,
    "start_time": "2024-06-05T13:00:59.032Z"
   },
   {
    "duration": 18,
    "start_time": "2024-06-05T13:00:59.040Z"
   },
   {
    "duration": 7,
    "start_time": "2024-06-05T13:00:59.064Z"
   },
   {
    "duration": 15,
    "start_time": "2024-06-05T13:00:59.074Z"
   },
   {
    "duration": 7,
    "start_time": "2024-06-05T13:00:59.135Z"
   },
   {
    "duration": 15,
    "start_time": "2024-06-05T13:00:59.145Z"
   },
   {
    "duration": 29,
    "start_time": "2024-06-05T13:00:59.163Z"
   },
   {
    "duration": 4967,
    "start_time": "2024-06-05T13:00:59.232Z"
   },
   {
    "duration": 4,
    "start_time": "2024-06-05T13:01:04.202Z"
   },
   {
    "duration": 6,
    "start_time": "2024-06-05T13:01:04.210Z"
   },
   {
    "duration": 22,
    "start_time": "2024-06-05T13:01:04.220Z"
   },
   {
    "duration": 15,
    "start_time": "2024-06-05T13:01:04.248Z"
   },
   {
    "duration": 115,
    "start_time": "2024-06-05T13:01:04.266Z"
   },
   {
    "duration": 8,
    "start_time": "2024-06-05T13:01:04.384Z"
   },
   {
    "duration": 7,
    "start_time": "2024-06-05T13:01:04.396Z"
   },
   {
    "duration": 36,
    "start_time": "2024-06-05T13:01:04.406Z"
   },
   {
    "duration": 22,
    "start_time": "2024-06-05T13:01:04.445Z"
   },
   {
    "duration": 6,
    "start_time": "2024-06-05T13:01:04.470Z"
   },
   {
    "duration": 5,
    "start_time": "2024-06-05T13:01:04.480Z"
   },
   {
    "duration": 1211,
    "start_time": "2024-06-05T13:01:04.489Z"
   },
   {
    "duration": 1062,
    "start_time": "2024-06-05T13:01:15.774Z"
   },
   {
    "duration": 388,
    "start_time": "2024-06-05T13:28:25.976Z"
   },
   {
    "duration": 5268,
    "start_time": "2024-06-05T13:28:37.602Z"
   },
   {
    "duration": 18,
    "start_time": "2024-06-05T13:28:42.874Z"
   },
   {
    "duration": 6,
    "start_time": "2024-06-05T13:28:42.895Z"
   },
   {
    "duration": 36,
    "start_time": "2024-06-05T13:28:42.904Z"
   },
   {
    "duration": 9,
    "start_time": "2024-06-05T13:28:42.945Z"
   },
   {
    "duration": 18,
    "start_time": "2024-06-05T13:28:42.957Z"
   },
   {
    "duration": 7,
    "start_time": "2024-06-05T13:28:42.978Z"
   },
   {
    "duration": 55,
    "start_time": "2024-06-05T13:28:42.989Z"
   },
   {
    "duration": 29,
    "start_time": "2024-06-05T13:28:43.047Z"
   },
   {
    "duration": 5038,
    "start_time": "2024-06-05T13:28:43.079Z"
   },
   {
    "duration": 4,
    "start_time": "2024-06-05T13:28:48.120Z"
   },
   {
    "duration": 8,
    "start_time": "2024-06-05T13:28:48.127Z"
   },
   {
    "duration": 15,
    "start_time": "2024-06-05T13:28:48.138Z"
   },
   {
    "duration": 15,
    "start_time": "2024-06-05T13:28:48.160Z"
   },
   {
    "duration": 211,
    "start_time": "2024-06-05T13:28:48.179Z"
   },
   {
    "duration": 7,
    "start_time": "2024-06-05T13:28:48.394Z"
   },
   {
    "duration": 29,
    "start_time": "2024-06-05T13:28:48.404Z"
   },
   {
    "duration": 13,
    "start_time": "2024-06-05T13:28:48.436Z"
   },
   {
    "duration": 18,
    "start_time": "2024-06-05T13:28:48.452Z"
   },
   {
    "duration": 5,
    "start_time": "2024-06-05T13:28:48.473Z"
   },
   {
    "duration": 4,
    "start_time": "2024-06-05T13:28:48.483Z"
   },
   {
    "duration": 1210,
    "start_time": "2024-06-05T13:28:48.491Z"
   },
   {
    "duration": 1369,
    "start_time": "2024-06-05T13:28:49.705Z"
   },
   {
    "duration": 8,
    "start_time": "2024-06-05T13:28:51.077Z"
   },
   {
    "duration": 0,
    "start_time": "2024-06-05T13:28:51.088Z"
   },
   {
    "duration": 0,
    "start_time": "2024-06-05T13:28:51.091Z"
   },
   {
    "duration": 13,
    "start_time": "2024-06-05T13:29:48.257Z"
   },
   {
    "duration": 17,
    "start_time": "2024-06-05T13:29:48.525Z"
   },
   {
    "duration": 5,
    "start_time": "2024-06-05T13:29:49.042Z"
   },
   {
    "duration": 4,
    "start_time": "2024-06-05T13:29:49.541Z"
   },
   {
    "duration": 782,
    "start_time": "2024-06-05T13:29:49.998Z"
   },
   {
    "duration": 5,
    "start_time": "2024-06-05T13:30:55.565Z"
   },
   {
    "duration": 4,
    "start_time": "2024-06-05T13:30:55.752Z"
   },
   {
    "duration": 753,
    "start_time": "2024-06-05T13:30:56.005Z"
   },
   {
    "duration": 6,
    "start_time": "2024-06-05T13:31:14.023Z"
   },
   {
    "duration": 6,
    "start_time": "2024-06-05T13:31:14.339Z"
   },
   {
    "duration": 13,
    "start_time": "2024-06-05T13:31:14.966Z"
   },
   {
    "duration": 17,
    "start_time": "2024-06-05T13:31:16.027Z"
   },
   {
    "duration": 4,
    "start_time": "2024-06-05T13:31:16.506Z"
   },
   {
    "duration": 4,
    "start_time": "2024-06-05T13:31:16.878Z"
   },
   {
    "duration": 855,
    "start_time": "2024-06-05T13:31:17.349Z"
   },
   {
    "duration": 5,
    "start_time": "2024-06-05T13:31:32.818Z"
   },
   {
    "duration": 6,
    "start_time": "2024-06-05T13:31:33.056Z"
   },
   {
    "duration": 187,
    "start_time": "2024-06-05T13:31:33.277Z"
   },
   {
    "duration": 4,
    "start_time": "2024-06-05T13:31:46.282Z"
   },
   {
    "duration": 4,
    "start_time": "2024-06-05T13:31:46.473Z"
   },
   {
    "duration": 251,
    "start_time": "2024-06-05T13:31:46.718Z"
   },
   {
    "duration": 7,
    "start_time": "2024-06-05T13:32:13.413Z"
   },
   {
    "duration": 4,
    "start_time": "2024-06-05T13:32:13.567Z"
   },
   {
    "duration": 775,
    "start_time": "2024-06-05T13:32:13.764Z"
   },
   {
    "duration": 955,
    "start_time": "2024-06-05T13:32:28.377Z"
   },
   {
    "duration": 4,
    "start_time": "2024-06-05T13:32:44.824Z"
   },
   {
    "duration": 4,
    "start_time": "2024-06-05T13:32:45.218Z"
   },
   {
    "duration": 747,
    "start_time": "2024-06-05T13:32:45.724Z"
   },
   {
    "duration": 5,
    "start_time": "2024-06-05T13:33:01.878Z"
   },
   {
    "duration": 5,
    "start_time": "2024-06-05T13:33:02.061Z"
   },
   {
    "duration": 193,
    "start_time": "2024-06-05T13:33:02.266Z"
   },
   {
    "duration": 207,
    "start_time": "2024-06-05T13:33:02.515Z"
   },
   {
    "duration": 42,
    "start_time": "2024-06-05T13:34:56.068Z"
   },
   {
    "duration": 18,
    "start_time": "2024-06-05T13:35:21.680Z"
   },
   {
    "duration": 4,
    "start_time": "2024-06-05T13:35:24.448Z"
   },
   {
    "duration": 4,
    "start_time": "2024-06-05T13:35:25.169Z"
   },
   {
    "duration": 188,
    "start_time": "2024-06-05T13:35:25.900Z"
   },
   {
    "duration": 24,
    "start_time": "2024-06-05T13:36:23.560Z"
   },
   {
    "duration": 4,
    "start_time": "2024-06-05T13:36:24.046Z"
   },
   {
    "duration": 4,
    "start_time": "2024-06-05T13:36:35.937Z"
   },
   {
    "duration": 184,
    "start_time": "2024-06-05T13:36:36.059Z"
   },
   {
    "duration": 80,
    "start_time": "2024-06-05T13:37:15.613Z"
   },
   {
    "duration": 188,
    "start_time": "2024-06-05T13:37:16.519Z"
   },
   {
    "duration": 5,
    "start_time": "2024-06-05T13:37:30.607Z"
   },
   {
    "duration": 5,
    "start_time": "2024-06-05T13:37:30.900Z"
   },
   {
    "duration": 869,
    "start_time": "2024-06-05T13:37:31.311Z"
   },
   {
    "duration": 1031,
    "start_time": "2024-06-05T13:37:33.059Z"
   },
   {
    "duration": 6,
    "start_time": "2024-06-05T13:38:42.708Z"
   },
   {
    "duration": 7,
    "start_time": "2024-06-05T13:38:42.887Z"
   },
   {
    "duration": 18,
    "start_time": "2024-06-05T13:38:43.087Z"
   },
   {
    "duration": 17,
    "start_time": "2024-06-05T13:38:43.337Z"
   },
   {
    "duration": 5,
    "start_time": "2024-06-05T13:38:43.659Z"
   },
   {
    "duration": 4,
    "start_time": "2024-06-05T13:38:43.959Z"
   },
   {
    "duration": 990,
    "start_time": "2024-06-05T13:38:44.201Z"
   },
   {
    "duration": 1038,
    "start_time": "2024-06-05T13:38:45.194Z"
   },
   {
    "duration": 5,
    "start_time": "2024-06-05T13:42:45.357Z"
   },
   {
    "duration": 31,
    "start_time": "2024-06-05T13:42:45.868Z"
   },
   {
    "duration": 32,
    "start_time": "2024-06-05T13:43:14.418Z"
   },
   {
    "duration": 4,
    "start_time": "2024-06-05T13:43:16.831Z"
   },
   {
    "duration": 29,
    "start_time": "2024-06-05T13:43:17.039Z"
   },
   {
    "duration": 38,
    "start_time": "2024-06-05T13:43:24.161Z"
   },
   {
    "duration": 393,
    "start_time": "2024-06-05T13:43:35.201Z"
   },
   {
    "duration": 35,
    "start_time": "2024-06-05T13:43:44.721Z"
   },
   {
    "duration": 199,
    "start_time": "2024-06-05T13:43:58.968Z"
   },
   {
    "duration": 214,
    "start_time": "2024-06-05T13:44:26.494Z"
   },
   {
    "duration": 4,
    "start_time": "2024-06-05T13:44:40.150Z"
   },
   {
    "duration": 217,
    "start_time": "2024-06-05T13:44:40.334Z"
   },
   {
    "duration": 223,
    "start_time": "2024-06-05T13:45:01.512Z"
   },
   {
    "duration": 215,
    "start_time": "2024-06-05T13:45:50.307Z"
   },
   {
    "duration": 213,
    "start_time": "2024-06-05T13:46:20.456Z"
   },
   {
    "duration": 1587,
    "start_time": "2024-06-05T13:47:15.745Z"
   },
   {
    "duration": 13,
    "start_time": "2024-06-05T13:47:17.336Z"
   },
   {
    "duration": 5,
    "start_time": "2024-06-05T13:47:17.352Z"
   },
   {
    "duration": 18,
    "start_time": "2024-06-05T13:47:17.360Z"
   },
   {
    "duration": 8,
    "start_time": "2024-06-05T13:47:17.384Z"
   },
   {
    "duration": 51,
    "start_time": "2024-06-05T13:47:17.395Z"
   },
   {
    "duration": 7,
    "start_time": "2024-06-05T13:47:17.450Z"
   },
   {
    "duration": 15,
    "start_time": "2024-06-05T13:47:17.460Z"
   },
   {
    "duration": 74,
    "start_time": "2024-06-05T13:47:17.478Z"
   },
   {
    "duration": 4887,
    "start_time": "2024-06-05T13:47:17.555Z"
   },
   {
    "duration": 4,
    "start_time": "2024-06-05T13:47:22.445Z"
   },
   {
    "duration": 9,
    "start_time": "2024-06-05T13:47:22.454Z"
   },
   {
    "duration": 17,
    "start_time": "2024-06-05T13:47:22.466Z"
   },
   {
    "duration": 46,
    "start_time": "2024-06-05T13:47:22.488Z"
   },
   {
    "duration": 97,
    "start_time": "2024-06-05T13:47:22.537Z"
   },
   {
    "duration": 6,
    "start_time": "2024-06-05T13:47:22.637Z"
   },
   {
    "duration": 7,
    "start_time": "2024-06-05T13:47:22.646Z"
   },
   {
    "duration": 14,
    "start_time": "2024-06-05T13:47:22.655Z"
   },
   {
    "duration": 17,
    "start_time": "2024-06-05T13:47:22.672Z"
   },
   {
    "duration": 5,
    "start_time": "2024-06-05T13:47:22.732Z"
   },
   {
    "duration": 6,
    "start_time": "2024-06-05T13:47:22.740Z"
   },
   {
    "duration": 1058,
    "start_time": "2024-06-05T13:47:22.749Z"
   },
   {
    "duration": 1153,
    "start_time": "2024-06-05T13:47:23.810Z"
   },
   {
    "duration": 289,
    "start_time": "2024-06-05T13:47:24.966Z"
   },
   {
    "duration": 10,
    "start_time": "2024-06-05T13:47:25.260Z"
   },
   {
    "duration": 0,
    "start_time": "2024-06-05T13:47:25.273Z"
   },
   {
    "duration": 0,
    "start_time": "2024-06-05T13:47:25.275Z"
   },
   {
    "duration": 0,
    "start_time": "2024-06-05T13:47:25.277Z"
   },
   {
    "duration": 0,
    "start_time": "2024-06-05T13:47:25.280Z"
   },
   {
    "duration": 0,
    "start_time": "2024-06-05T13:47:25.282Z"
   },
   {
    "duration": 211,
    "start_time": "2024-06-05T13:47:43.440Z"
   },
   {
    "duration": 222,
    "start_time": "2024-06-05T13:48:29.668Z"
   },
   {
    "duration": 264,
    "start_time": "2024-06-05T13:49:12.941Z"
   },
   {
    "duration": 275,
    "start_time": "2024-06-05T13:49:47.782Z"
   },
   {
    "duration": 581,
    "start_time": "2024-06-05T13:51:02.537Z"
   },
   {
    "duration": 465,
    "start_time": "2024-06-05T13:51:28.477Z"
   },
   {
    "duration": 38,
    "start_time": "2024-06-05T13:51:40.310Z"
   },
   {
    "duration": 32,
    "start_time": "2024-06-05T13:51:55.445Z"
   },
   {
    "duration": 593,
    "start_time": "2024-06-05T13:52:36.162Z"
   },
   {
    "duration": 7,
    "start_time": "2024-06-05T14:08:07.353Z"
   },
   {
    "duration": 4,
    "start_time": "2024-06-05T14:08:14.489Z"
   },
   {
    "duration": 179,
    "start_time": "2024-06-05T14:08:32.274Z"
   },
   {
    "duration": 6,
    "start_time": "2024-06-05T14:08:53.979Z"
   },
   {
    "duration": 14,
    "start_time": "2024-06-05T14:08:54.756Z"
   },
   {
    "duration": 5,
    "start_time": "2024-06-05T14:08:55.090Z"
   },
   {
    "duration": 16,
    "start_time": "2024-06-05T14:08:55.427Z"
   },
   {
    "duration": 9,
    "start_time": "2024-06-05T14:08:55.570Z"
   },
   {
    "duration": 16,
    "start_time": "2024-06-05T14:08:55.906Z"
   },
   {
    "duration": 7,
    "start_time": "2024-06-05T14:08:56.070Z"
   },
   {
    "duration": 14,
    "start_time": "2024-06-05T14:08:56.233Z"
   },
   {
    "duration": 35,
    "start_time": "2024-06-05T14:08:56.419Z"
   },
   {
    "duration": 6700,
    "start_time": "2024-06-05T14:08:56.743Z"
   },
   {
    "duration": 4,
    "start_time": "2024-06-05T14:09:03.446Z"
   },
   {
    "duration": 6,
    "start_time": "2024-06-05T14:09:03.453Z"
   },
   {
    "duration": 70,
    "start_time": "2024-06-05T14:09:03.463Z"
   },
   {
    "duration": 14,
    "start_time": "2024-06-05T14:09:03.535Z"
   },
   {
    "duration": 191,
    "start_time": "2024-06-05T14:09:03.552Z"
   },
   {
    "duration": 4,
    "start_time": "2024-06-05T14:09:06.449Z"
   },
   {
    "duration": 6,
    "start_time": "2024-06-05T14:09:06.673Z"
   },
   {
    "duration": 16,
    "start_time": "2024-06-05T14:09:07.248Z"
   },
   {
    "duration": 17,
    "start_time": "2024-06-05T14:09:07.519Z"
   },
   {
    "duration": 104,
    "start_time": "2024-06-05T14:09:07.844Z"
   },
   {
    "duration": 9,
    "start_time": "2024-06-05T14:09:09.824Z"
   },
   {
    "duration": 6,
    "start_time": "2024-06-05T14:09:10.123Z"
   },
   {
    "duration": 15,
    "start_time": "2024-06-05T14:09:10.401Z"
   },
   {
    "duration": 19,
    "start_time": "2024-06-05T14:09:10.612Z"
   },
   {
    "duration": 7,
    "start_time": "2024-06-05T14:09:10.934Z"
   },
   {
    "duration": 5,
    "start_time": "2024-06-05T14:09:11.162Z"
   },
   {
    "duration": 935,
    "start_time": "2024-06-05T14:09:11.464Z"
   },
   {
    "duration": 1100,
    "start_time": "2024-06-05T14:09:12.403Z"
   },
   {
    "duration": 668,
    "start_time": "2024-06-05T14:09:13.507Z"
   },
   {
    "duration": 12,
    "start_time": "2024-06-05T14:09:17.099Z"
   },
   {
    "duration": 4,
    "start_time": "2024-06-05T14:09:17.559Z"
   },
   {
    "duration": 19,
    "start_time": "2024-06-05T14:09:18.912Z"
   },
   {
    "duration": 7,
    "start_time": "2024-06-05T14:11:36.743Z"
   },
   {
    "duration": 4,
    "start_time": "2024-06-05T14:11:36.957Z"
   },
   {
    "duration": 47,
    "start_time": "2024-06-05T14:11:37.497Z"
   },
   {
    "duration": 12,
    "start_time": "2024-06-05T14:11:53.923Z"
   },
   {
    "duration": 5,
    "start_time": "2024-06-05T14:11:54.102Z"
   },
   {
    "duration": 15,
    "start_time": "2024-06-05T14:11:54.574Z"
   },
   {
    "duration": 16,
    "start_time": "2024-06-05T14:14:09.950Z"
   },
   {
    "duration": 7,
    "start_time": "2024-06-05T14:20:37.087Z"
   },
   {
    "duration": 5,
    "start_time": "2024-06-05T14:20:37.557Z"
   },
   {
    "duration": 74,
    "start_time": "2024-06-05T14:20:38.464Z"
   },
   {
    "duration": 77,
    "start_time": "2024-06-05T14:20:43.374Z"
   },
   {
    "duration": 8,
    "start_time": "2024-06-05T14:20:52.213Z"
   },
   {
    "duration": 5,
    "start_time": "2024-06-05T14:20:52.635Z"
   },
   {
    "duration": 140,
    "start_time": "2024-06-05T14:20:53.411Z"
   },
   {
    "duration": 7,
    "start_time": "2024-06-05T14:21:22.928Z"
   },
   {
    "duration": 4,
    "start_time": "2024-06-05T14:21:23.106Z"
   },
   {
    "duration": 63,
    "start_time": "2024-06-05T14:21:23.290Z"
   },
   {
    "duration": 6,
    "start_time": "2024-06-05T14:21:33.327Z"
   },
   {
    "duration": 5,
    "start_time": "2024-06-05T14:21:33.534Z"
   },
   {
    "duration": 74,
    "start_time": "2024-06-05T14:21:33.769Z"
   },
   {
    "duration": 7,
    "start_time": "2024-06-05T14:22:15.029Z"
   },
   {
    "duration": 4,
    "start_time": "2024-06-05T14:22:15.194Z"
   },
   {
    "duration": 87,
    "start_time": "2024-06-05T14:22:15.359Z"
   },
   {
    "duration": 6,
    "start_time": "2024-06-05T14:23:26.048Z"
   },
   {
    "duration": 4,
    "start_time": "2024-06-05T14:23:26.290Z"
   },
   {
    "duration": 13,
    "start_time": "2024-06-05T14:23:26.440Z"
   },
   {
    "duration": 6,
    "start_time": "2024-06-05T14:23:52.126Z"
   },
   {
    "duration": 5,
    "start_time": "2024-06-05T14:23:52.316Z"
   },
   {
    "duration": 104,
    "start_time": "2024-06-05T14:23:52.532Z"
   },
   {
    "duration": 13,
    "start_time": "2024-06-05T14:23:56.614Z"
   },
   {
    "duration": 6,
    "start_time": "2024-06-05T14:24:39.583Z"
   },
   {
    "duration": 6,
    "start_time": "2024-06-05T14:24:39.936Z"
   },
   {
    "duration": 48,
    "start_time": "2024-06-05T14:24:40.193Z"
   },
   {
    "duration": 7,
    "start_time": "2024-06-05T14:24:58.231Z"
   },
   {
    "duration": 5,
    "start_time": "2024-06-05T14:24:58.429Z"
   },
   {
    "duration": 123,
    "start_time": "2024-06-05T14:24:58.912Z"
   },
   {
    "duration": 7,
    "start_time": "2024-06-05T14:26:35.108Z"
   },
   {
    "duration": 4,
    "start_time": "2024-06-05T14:26:35.284Z"
   },
   {
    "duration": 166,
    "start_time": "2024-06-05T14:26:35.467Z"
   },
   {
    "duration": 7,
    "start_time": "2024-06-05T14:26:48.087Z"
   },
   {
    "duration": 4,
    "start_time": "2024-06-05T14:26:48.269Z"
   },
   {
    "duration": 14,
    "start_time": "2024-06-05T14:26:48.465Z"
   },
   {
    "duration": 362,
    "start_time": "2024-06-05T16:19:19.449Z"
   },
   {
    "duration": 5622,
    "start_time": "2024-06-05T16:19:25.859Z"
   },
   {
    "duration": 19,
    "start_time": "2024-06-05T16:19:31.487Z"
   },
   {
    "duration": 18,
    "start_time": "2024-06-05T16:19:31.509Z"
   },
   {
    "duration": 22,
    "start_time": "2024-06-05T16:19:31.532Z"
   },
   {
    "duration": 9,
    "start_time": "2024-06-05T16:19:31.559Z"
   },
   {
    "duration": 55,
    "start_time": "2024-06-05T16:19:31.571Z"
   },
   {
    "duration": 10,
    "start_time": "2024-06-05T16:19:31.629Z"
   },
   {
    "duration": 17,
    "start_time": "2024-06-05T16:19:31.642Z"
   },
   {
    "duration": 79,
    "start_time": "2024-06-05T16:19:31.662Z"
   },
   {
    "duration": 5383,
    "start_time": "2024-06-05T16:19:31.744Z"
   },
   {
    "duration": 4,
    "start_time": "2024-06-05T16:19:37.131Z"
   },
   {
    "duration": 7,
    "start_time": "2024-06-05T16:19:37.138Z"
   },
   {
    "duration": 14,
    "start_time": "2024-06-05T16:19:37.149Z"
   },
   {
    "duration": 14,
    "start_time": "2024-06-05T16:19:37.170Z"
   },
   {
    "duration": 99,
    "start_time": "2024-06-05T16:19:37.224Z"
   },
   {
    "duration": 8,
    "start_time": "2024-06-05T16:19:37.327Z"
   },
   {
    "duration": 10,
    "start_time": "2024-06-05T16:19:37.339Z"
   },
   {
    "duration": 15,
    "start_time": "2024-06-05T16:19:37.353Z"
   },
   {
    "duration": 60,
    "start_time": "2024-06-05T16:19:37.371Z"
   },
   {
    "duration": 4,
    "start_time": "2024-06-05T16:19:37.435Z"
   },
   {
    "duration": 6,
    "start_time": "2024-06-05T16:19:37.443Z"
   },
   {
    "duration": 1331,
    "start_time": "2024-06-05T16:19:37.452Z"
   },
   {
    "duration": 1348,
    "start_time": "2024-06-05T16:19:38.787Z"
   },
   {
    "duration": 624,
    "start_time": "2024-06-05T16:19:40.138Z"
   },
   {
    "duration": 7,
    "start_time": "2024-06-05T16:19:40.765Z"
   },
   {
    "duration": 6,
    "start_time": "2024-06-05T16:19:40.776Z"
   },
   {
    "duration": 44,
    "start_time": "2024-06-05T16:19:40.787Z"
   },
   {
    "duration": 5,
    "start_time": "2024-06-05T16:19:43.811Z"
   },
   {
    "duration": 4,
    "start_time": "2024-06-05T16:19:46.100Z"
   },
   {
    "duration": 8,
    "start_time": "2024-06-05T16:19:57.583Z"
   },
   {
    "duration": 7,
    "start_time": "2024-06-05T16:20:25.751Z"
   },
   {
    "duration": 161,
    "start_time": "2024-06-05T16:21:33.923Z"
   },
   {
    "duration": 347,
    "start_time": "2024-06-05T16:21:51.529Z"
   },
   {
    "duration": 107,
    "start_time": "2024-06-05T16:22:08.017Z"
   },
   {
    "duration": 10,
    "start_time": "2024-06-05T16:24:36.801Z"
   },
   {
    "duration": 5,
    "start_time": "2024-06-05T16:25:16.936Z"
   },
   {
    "duration": 33,
    "start_time": "2024-06-05T16:26:01.388Z"
   },
   {
    "duration": 7,
    "start_time": "2024-06-05T16:26:05.998Z"
   },
   {
    "duration": 17,
    "start_time": "2024-06-05T16:26:32.062Z"
   },
   {
    "duration": 7,
    "start_time": "2024-06-05T16:26:53.835Z"
   },
   {
    "duration": 92,
    "start_time": "2024-06-05T16:35:28.235Z"
   },
   {
    "duration": 7,
    "start_time": "2024-06-05T16:36:01.741Z"
   },
   {
    "duration": 7,
    "start_time": "2024-06-05T16:37:03.165Z"
   },
   {
    "duration": 8,
    "start_time": "2024-06-05T16:38:31.318Z"
   },
   {
    "duration": 6,
    "start_time": "2024-06-05T16:45:59.565Z"
   },
   {
    "duration": 7,
    "start_time": "2024-06-05T16:49:18.404Z"
   },
   {
    "duration": 5,
    "start_time": "2024-06-05T16:55:11.142Z"
   },
   {
    "duration": 7,
    "start_time": "2024-06-05T16:55:16.784Z"
   },
   {
    "duration": 3,
    "start_time": "2024-06-05T17:01:46.261Z"
   },
   {
    "duration": 5,
    "start_time": "2024-06-05T17:02:12.204Z"
   },
   {
    "duration": 11,
    "start_time": "2024-06-05T17:02:39.716Z"
   },
   {
    "duration": 7,
    "start_time": "2024-06-05T17:02:50.502Z"
   },
   {
    "duration": 1975,
    "start_time": "2024-06-05T17:02:58.093Z"
   },
   {
    "duration": 21,
    "start_time": "2024-06-05T17:03:00.073Z"
   },
   {
    "duration": 25,
    "start_time": "2024-06-05T17:03:00.100Z"
   },
   {
    "duration": 39,
    "start_time": "2024-06-05T17:03:00.128Z"
   },
   {
    "duration": 12,
    "start_time": "2024-06-05T17:03:00.174Z"
   },
   {
    "duration": 47,
    "start_time": "2024-06-05T17:03:00.191Z"
   },
   {
    "duration": 10,
    "start_time": "2024-06-05T17:03:00.243Z"
   },
   {
    "duration": 22,
    "start_time": "2024-06-05T17:03:00.257Z"
   },
   {
    "duration": 72,
    "start_time": "2024-06-05T17:03:00.284Z"
   },
   {
    "duration": 5789,
    "start_time": "2024-06-05T17:03:00.360Z"
   },
   {
    "duration": 5,
    "start_time": "2024-06-05T17:03:06.154Z"
   },
   {
    "duration": 10,
    "start_time": "2024-06-05T17:03:06.163Z"
   },
   {
    "duration": 23,
    "start_time": "2024-06-05T17:03:06.179Z"
   },
   {
    "duration": 21,
    "start_time": "2024-06-05T17:03:06.229Z"
   },
   {
    "duration": 121,
    "start_time": "2024-06-05T17:03:06.256Z"
   },
   {
    "duration": 7,
    "start_time": "2024-06-05T17:03:06.384Z"
   },
   {
    "duration": 28,
    "start_time": "2024-06-05T17:03:06.396Z"
   },
   {
    "duration": 18,
    "start_time": "2024-06-05T17:03:06.427Z"
   },
   {
    "duration": 23,
    "start_time": "2024-06-05T17:03:06.448Z"
   },
   {
    "duration": 6,
    "start_time": "2024-06-05T17:03:06.475Z"
   },
   {
    "duration": 40,
    "start_time": "2024-06-05T17:03:06.484Z"
   },
   {
    "duration": 1033,
    "start_time": "2024-06-05T17:03:06.528Z"
   },
   {
    "duration": 1247,
    "start_time": "2024-06-05T17:03:07.564Z"
   },
   {
    "duration": 620,
    "start_time": "2024-06-05T17:03:08.823Z"
   },
   {
    "duration": 17,
    "start_time": "2024-06-05T17:03:09.447Z"
   },
   {
    "duration": 9,
    "start_time": "2024-06-05T17:03:09.469Z"
   },
   {
    "duration": 47,
    "start_time": "2024-06-05T17:03:09.482Z"
   },
   {
    "duration": 9,
    "start_time": "2024-06-05T17:03:09.532Z"
   },
   {
    "duration": 7,
    "start_time": "2024-06-05T17:03:09.544Z"
   },
   {
    "duration": 77,
    "start_time": "2024-06-05T17:03:09.554Z"
   },
   {
    "duration": 22,
    "start_time": "2024-06-05T17:03:09.635Z"
   },
   {
    "duration": 79,
    "start_time": "2024-06-05T17:03:09.662Z"
   },
   {
    "duration": 14,
    "start_time": "2024-06-05T17:03:09.749Z"
   },
   {
    "duration": 56,
    "start_time": "2024-06-05T17:03:09.768Z"
   },
   {
    "duration": 4,
    "start_time": "2024-06-05T17:04:36.121Z"
   },
   {
    "duration": 5,
    "start_time": "2024-06-05T17:05:06.979Z"
   },
   {
    "duration": 4,
    "start_time": "2024-06-05T17:07:46.693Z"
   },
   {
    "duration": 7,
    "start_time": "2024-06-05T17:07:51.486Z"
   },
   {
    "duration": 7,
    "start_time": "2024-06-05T17:08:07.449Z"
   },
   {
    "duration": 8,
    "start_time": "2024-06-05T17:08:37.727Z"
   },
   {
    "duration": 9,
    "start_time": "2024-06-05T17:09:13.112Z"
   },
   {
    "duration": 7,
    "start_time": "2024-06-05T17:11:30.983Z"
   },
   {
    "duration": 4,
    "start_time": "2024-06-05T17:14:07.720Z"
   },
   {
    "duration": 7,
    "start_time": "2024-06-05T17:14:08.040Z"
   },
   {
    "duration": 8,
    "start_time": "2024-06-05T17:14:39.154Z"
   },
   {
    "duration": 7,
    "start_time": "2024-06-05T17:14:54.543Z"
   },
   {
    "duration": 7,
    "start_time": "2024-06-05T17:17:17.606Z"
   },
   {
    "duration": 8,
    "start_time": "2024-06-05T17:17:49.966Z"
   },
   {
    "duration": 6,
    "start_time": "2024-06-05T17:17:52.780Z"
   },
   {
    "duration": 330,
    "start_time": "2024-06-05T18:51:35.605Z"
   },
   {
    "duration": 5203,
    "start_time": "2024-06-05T18:51:41.325Z"
   },
   {
    "duration": 82,
    "start_time": "2024-06-05T18:51:46.534Z"
   },
   {
    "duration": 14,
    "start_time": "2024-06-05T18:51:46.619Z"
   },
   {
    "duration": 19,
    "start_time": "2024-06-05T18:51:46.637Z"
   },
   {
    "duration": 10,
    "start_time": "2024-06-05T18:51:46.661Z"
   },
   {
    "duration": 15,
    "start_time": "2024-06-05T18:51:46.674Z"
   },
   {
    "duration": 8,
    "start_time": "2024-06-05T18:51:46.732Z"
   },
   {
    "duration": 14,
    "start_time": "2024-06-05T18:51:46.744Z"
   },
   {
    "duration": 29,
    "start_time": "2024-06-05T18:51:46.761Z"
   },
   {
    "duration": 4938,
    "start_time": "2024-06-05T18:51:46.793Z"
   },
   {
    "duration": 3,
    "start_time": "2024-06-05T18:51:51.735Z"
   },
   {
    "duration": 11,
    "start_time": "2024-06-05T18:51:51.742Z"
   },
   {
    "duration": 23,
    "start_time": "2024-06-05T18:51:51.757Z"
   },
   {
    "duration": 43,
    "start_time": "2024-06-05T18:51:51.789Z"
   },
   {
    "duration": 95,
    "start_time": "2024-06-05T18:51:51.835Z"
   },
   {
    "duration": 7,
    "start_time": "2024-06-05T18:51:51.933Z"
   },
   {
    "duration": 7,
    "start_time": "2024-06-05T18:51:51.942Z"
   },
   {
    "duration": 13,
    "start_time": "2024-06-05T18:51:51.952Z"
   },
   {
    "duration": 17,
    "start_time": "2024-06-05T18:51:51.968Z"
   },
   {
    "duration": 44,
    "start_time": "2024-06-05T18:51:51.988Z"
   },
   {
    "duration": 5,
    "start_time": "2024-06-05T18:51:52.035Z"
   },
   {
    "duration": 1430,
    "start_time": "2024-06-05T18:51:52.044Z"
   },
   {
    "duration": 1290,
    "start_time": "2024-06-05T18:51:53.480Z"
   },
   {
    "duration": 615,
    "start_time": "2024-06-05T18:51:54.774Z"
   },
   {
    "duration": 6,
    "start_time": "2024-06-05T18:51:55.392Z"
   },
   {
    "duration": 5,
    "start_time": "2024-06-05T18:51:55.402Z"
   },
   {
    "duration": 17,
    "start_time": "2024-06-05T18:51:55.430Z"
   },
   {
    "duration": 5,
    "start_time": "2024-06-05T18:51:55.452Z"
   },
   {
    "duration": 71,
    "start_time": "2024-06-05T18:51:55.462Z"
   },
   {
    "duration": 9,
    "start_time": "2024-06-05T18:51:55.536Z"
   },
   {
    "duration": 83,
    "start_time": "2024-06-05T18:51:55.548Z"
   },
   {
    "duration": 7,
    "start_time": "2024-06-05T18:51:55.635Z"
   },
   {
    "duration": 4,
    "start_time": "2024-06-05T18:51:55.645Z"
   },
   {
    "duration": 4,
    "start_time": "2024-06-05T18:51:55.652Z"
   },
   {
    "duration": 4,
    "start_time": "2024-06-05T18:51:55.731Z"
   },
   {
    "duration": 6,
    "start_time": "2024-06-05T18:51:55.737Z"
   },
   {
    "duration": 85,
    "start_time": "2024-06-05T18:51:55.748Z"
   },
   {
    "duration": 136,
    "start_time": "2024-06-05T18:51:58.620Z"
   },
   {
    "duration": 5,
    "start_time": "2024-06-05T18:52:07.804Z"
   },
   {
    "duration": 15,
    "start_time": "2024-06-05T18:52:37.061Z"
   },
   {
    "duration": 5,
    "start_time": "2024-06-05T18:53:13.443Z"
   },
   {
    "duration": 14,
    "start_time": "2024-06-05T18:53:13.650Z"
   },
   {
    "duration": 5,
    "start_time": "2024-06-05T18:54:50.588Z"
   },
   {
    "duration": 6,
    "start_time": "2024-06-05T18:56:00.105Z"
   },
   {
    "duration": 5,
    "start_time": "2024-06-05T18:57:10.487Z"
   },
   {
    "duration": 15,
    "start_time": "2024-06-05T18:57:13.224Z"
   },
   {
    "duration": 6,
    "start_time": "2024-06-05T18:57:13.243Z"
   },
   {
    "duration": 5,
    "start_time": "2024-06-05T18:59:06.494Z"
   },
   {
    "duration": 6,
    "start_time": "2024-06-05T18:59:45.419Z"
   },
   {
    "duration": 29,
    "start_time": "2024-06-05T19:05:31.051Z"
   },
   {
    "duration": 197,
    "start_time": "2024-06-05T19:05:40.734Z"
   },
   {
    "duration": 27,
    "start_time": "2024-06-05T19:06:16.912Z"
   },
   {
    "duration": 87,
    "start_time": "2024-06-05T19:07:09.059Z"
   },
   {
    "duration": 7,
    "start_time": "2024-06-05T19:07:52.888Z"
   },
   {
    "duration": 8,
    "start_time": "2024-06-05T19:10:23.175Z"
   },
   {
    "duration": 8,
    "start_time": "2024-06-05T19:10:27.533Z"
   },
   {
    "duration": 1643,
    "start_time": "2024-06-05T19:10:40.628Z"
   },
   {
    "duration": 13,
    "start_time": "2024-06-05T19:10:42.275Z"
   },
   {
    "duration": 6,
    "start_time": "2024-06-05T19:10:42.291Z"
   },
   {
    "duration": 43,
    "start_time": "2024-06-05T19:10:42.299Z"
   },
   {
    "duration": 8,
    "start_time": "2024-06-05T19:10:42.347Z"
   },
   {
    "duration": 15,
    "start_time": "2024-06-05T19:10:42.358Z"
   },
   {
    "duration": 7,
    "start_time": "2024-06-05T19:10:42.376Z"
   },
   {
    "duration": 56,
    "start_time": "2024-06-05T19:10:42.386Z"
   },
   {
    "duration": 29,
    "start_time": "2024-06-05T19:10:42.445Z"
   },
   {
    "duration": 4954,
    "start_time": "2024-06-05T19:10:42.477Z"
   },
   {
    "duration": 5,
    "start_time": "2024-06-05T19:10:47.434Z"
   },
   {
    "duration": 8,
    "start_time": "2024-06-05T19:10:47.442Z"
   },
   {
    "duration": 15,
    "start_time": "2024-06-05T19:10:47.452Z"
   },
   {
    "duration": 55,
    "start_time": "2024-06-05T19:10:47.475Z"
   },
   {
    "duration": 84,
    "start_time": "2024-06-05T19:10:47.533Z"
   },
   {
    "duration": 7,
    "start_time": "2024-06-05T19:10:47.631Z"
   },
   {
    "duration": 7,
    "start_time": "2024-06-05T19:10:47.642Z"
   },
   {
    "duration": 13,
    "start_time": "2024-06-05T19:10:47.652Z"
   },
   {
    "duration": 61,
    "start_time": "2024-06-05T19:10:47.668Z"
   },
   {
    "duration": 5,
    "start_time": "2024-06-05T19:10:47.732Z"
   },
   {
    "duration": 4,
    "start_time": "2024-06-05T19:10:47.740Z"
   },
   {
    "duration": 1103,
    "start_time": "2024-06-05T19:10:47.750Z"
   },
   {
    "duration": 1314,
    "start_time": "2024-06-05T19:10:48.856Z"
   },
   {
    "duration": 598,
    "start_time": "2024-06-05T19:10:50.173Z"
   },
   {
    "duration": 7,
    "start_time": "2024-06-05T19:10:50.774Z"
   },
   {
    "duration": 5,
    "start_time": "2024-06-05T19:10:50.784Z"
   },
   {
    "duration": 42,
    "start_time": "2024-06-05T19:10:50.792Z"
   },
   {
    "duration": 6,
    "start_time": "2024-06-05T19:10:50.836Z"
   },
   {
    "duration": 4,
    "start_time": "2024-06-05T19:10:50.845Z"
   },
   {
    "duration": 83,
    "start_time": "2024-06-05T19:10:50.852Z"
   },
   {
    "duration": 5,
    "start_time": "2024-06-05T19:10:50.938Z"
   },
   {
    "duration": 9,
    "start_time": "2024-06-05T19:10:50.946Z"
   },
   {
    "duration": 73,
    "start_time": "2024-06-05T19:10:50.959Z"
   },
   {
    "duration": 5,
    "start_time": "2024-06-05T19:10:51.035Z"
   },
   {
    "duration": 4,
    "start_time": "2024-06-05T19:10:51.043Z"
   },
   {
    "duration": 82,
    "start_time": "2024-06-05T19:10:51.051Z"
   },
   {
    "duration": 7,
    "start_time": "2024-06-05T19:10:51.137Z"
   },
   {
    "duration": 5,
    "start_time": "2024-06-05T19:10:51.147Z"
   },
   {
    "duration": 9,
    "start_time": "2024-06-05T19:10:51.155Z"
   },
   {
    "duration": 68,
    "start_time": "2024-06-05T19:10:51.166Z"
   },
   {
    "duration": 7,
    "start_time": "2024-06-05T19:10:51.243Z"
   },
   {
    "duration": 19,
    "start_time": "2024-06-05T19:12:49.822Z"
   },
   {
    "duration": 5,
    "start_time": "2024-06-05T19:12:50.472Z"
   },
   {
    "duration": 6,
    "start_time": "2024-06-05T19:12:50.921Z"
   },
   {
    "duration": 11,
    "start_time": "2024-06-05T19:12:51.533Z"
   },
   {
    "duration": 12,
    "start_time": "2024-06-05T19:36:07.394Z"
   },
   {
    "duration": 11,
    "start_time": "2024-06-05T19:36:18.786Z"
   },
   {
    "duration": 14,
    "start_time": "2024-06-05T19:36:38.466Z"
   },
   {
    "duration": 5511,
    "start_time": "2024-06-06T08:20:00.128Z"
   },
   {
    "duration": 19,
    "start_time": "2024-06-06T08:20:05.657Z"
   },
   {
    "duration": 5,
    "start_time": "2024-06-06T08:20:05.679Z"
   },
   {
    "duration": 19,
    "start_time": "2024-06-06T08:20:05.689Z"
   },
   {
    "duration": 9,
    "start_time": "2024-06-06T08:20:05.711Z"
   },
   {
    "duration": 15,
    "start_time": "2024-06-06T08:20:06.659Z"
   },
   {
    "duration": 7,
    "start_time": "2024-06-06T08:20:06.843Z"
   },
   {
    "duration": 14,
    "start_time": "2024-06-06T08:20:07.008Z"
   },
   {
    "duration": 32,
    "start_time": "2024-06-06T08:20:07.193Z"
   },
   {
    "duration": 5007,
    "start_time": "2024-06-06T08:20:07.966Z"
   },
   {
    "duration": 3,
    "start_time": "2024-06-06T08:20:12.978Z"
   },
   {
    "duration": 7,
    "start_time": "2024-06-06T08:20:12.984Z"
   },
   {
    "duration": 15,
    "start_time": "2024-06-06T08:20:12.996Z"
   },
   {
    "duration": 28,
    "start_time": "2024-06-06T08:20:13.013Z"
   },
   {
    "duration": 99,
    "start_time": "2024-06-06T08:20:13.043Z"
   },
   {
    "duration": 7,
    "start_time": "2024-06-06T08:20:13.181Z"
   },
   {
    "duration": 7,
    "start_time": "2024-06-06T08:20:13.782Z"
   },
   {
    "duration": 13,
    "start_time": "2024-06-06T08:20:15.122Z"
   },
   {
    "duration": 16,
    "start_time": "2024-06-06T08:20:17.754Z"
   },
   {
    "duration": 5,
    "start_time": "2024-06-06T08:20:20.898Z"
   },
   {
    "duration": 4,
    "start_time": "2024-06-06T08:20:21.201Z"
   },
   {
    "duration": 15,
    "start_time": "2024-06-06T08:20:25.833Z"
   },
   {
    "duration": 1032,
    "start_time": "2024-06-06T08:20:35.979Z"
   },
   {
    "duration": 18,
    "start_time": "2024-06-06T08:20:57.554Z"
   },
   {
    "duration": 6,
    "start_time": "2024-06-06T08:21:00.096Z"
   },
   {
    "duration": 21,
    "start_time": "2024-06-06T08:21:06.922Z"
   },
   {
    "duration": 18,
    "start_time": "2024-06-06T08:21:12.159Z"
   },
   {
    "duration": 26,
    "start_time": "2024-06-06T08:21:23.033Z"
   },
   {
    "duration": 5,
    "start_time": "2024-06-06T08:22:03.030Z"
   },
   {
    "duration": 833,
    "start_time": "2024-06-06T08:22:06.972Z"
   },
   {
    "duration": 5476,
    "start_time": "2024-06-06T12:04:08.876Z"
   },
   {
    "duration": 18,
    "start_time": "2024-06-06T12:04:14.363Z"
   },
   {
    "duration": 4,
    "start_time": "2024-06-06T12:04:14.385Z"
   },
   {
    "duration": 19,
    "start_time": "2024-06-06T12:04:14.393Z"
   },
   {
    "duration": 19,
    "start_time": "2024-06-06T12:04:14.417Z"
   },
   {
    "duration": 20,
    "start_time": "2024-06-06T12:04:14.438Z"
   },
   {
    "duration": 8,
    "start_time": "2024-06-06T12:04:14.463Z"
   },
   {
    "duration": 16,
    "start_time": "2024-06-06T12:04:14.474Z"
   },
   {
    "duration": 59,
    "start_time": "2024-06-06T12:04:14.493Z"
   },
   {
    "duration": 5145,
    "start_time": "2024-06-06T12:04:14.565Z"
   },
   {
    "duration": 4,
    "start_time": "2024-06-06T12:04:19.714Z"
   },
   {
    "duration": 7,
    "start_time": "2024-06-06T12:04:19.722Z"
   },
   {
    "duration": 25,
    "start_time": "2024-06-06T12:04:19.733Z"
   },
   {
    "duration": 14,
    "start_time": "2024-06-06T12:04:19.763Z"
   },
   {
    "duration": 107,
    "start_time": "2024-06-06T12:04:19.780Z"
   },
   {
    "duration": 6,
    "start_time": "2024-06-06T12:04:23.308Z"
   },
   {
    "duration": 7,
    "start_time": "2024-06-06T12:04:24.017Z"
   },
   {
    "duration": 14,
    "start_time": "2024-06-06T12:04:24.889Z"
   },
   {
    "duration": 7,
    "start_time": "2024-06-06T12:04:26.014Z"
   },
   {
    "duration": 21,
    "start_time": "2024-06-06T12:04:27.288Z"
   },
   {
    "duration": 8,
    "start_time": "2024-06-06T12:04:30.786Z"
   },
   {
    "duration": 16,
    "start_time": "2024-06-06T12:04:37.113Z"
   },
   {
    "duration": 4,
    "start_time": "2024-06-06T12:04:43.574Z"
   },
   {
    "duration": 4,
    "start_time": "2024-06-06T12:04:48.957Z"
   },
   {
    "duration": 856,
    "start_time": "2024-06-06T12:04:49.758Z"
   },
   {
    "duration": 5,
    "start_time": "2024-06-06T12:05:40.636Z"
   },
   {
    "duration": 6,
    "start_time": "2024-06-06T12:05:41.130Z"
   },
   {
    "duration": 21,
    "start_time": "2024-06-06T12:05:41.528Z"
   },
   {
    "duration": 7,
    "start_time": "2024-06-06T12:05:41.831Z"
   },
   {
    "duration": 15,
    "start_time": "2024-06-06T12:05:42.099Z"
   },
   {
    "duration": 7,
    "start_time": "2024-06-06T12:05:43.193Z"
   },
   {
    "duration": 17,
    "start_time": "2024-06-06T12:05:43.798Z"
   },
   {
    "duration": 4,
    "start_time": "2024-06-06T12:05:44.414Z"
   },
   {
    "duration": 4,
    "start_time": "2024-06-06T12:05:45.461Z"
   },
   {
    "duration": 808,
    "start_time": "2024-06-06T12:05:45.814Z"
   },
   {
    "duration": 317,
    "start_time": "2024-06-06T12:05:46.892Z"
   },
   {
    "duration": 4,
    "start_time": "2024-06-06T12:06:47.241Z"
   },
   {
    "duration": 6,
    "start_time": "2024-06-06T12:06:47.476Z"
   },
   {
    "duration": 12,
    "start_time": "2024-06-06T12:06:47.728Z"
   },
   {
    "duration": 9,
    "start_time": "2024-06-06T12:06:48.294Z"
   },
   {
    "duration": 31,
    "start_time": "2024-06-06T12:06:49.122Z"
   },
   {
    "duration": 12,
    "start_time": "2024-06-06T12:06:58.513Z"
   },
   {
    "duration": 7,
    "start_time": "2024-06-06T12:06:59.020Z"
   },
   {
    "duration": 18,
    "start_time": "2024-06-06T12:06:59.379Z"
   },
   {
    "duration": 14,
    "start_time": "2024-06-06T12:06:59.929Z"
   },
   {
    "duration": 22,
    "start_time": "2024-06-06T12:07:02.442Z"
   },
   {
    "duration": 4,
    "start_time": "2024-06-06T12:07:03.279Z"
   },
   {
    "duration": 4,
    "start_time": "2024-06-06T12:07:04.958Z"
   },
   {
    "duration": 186,
    "start_time": "2024-06-06T12:07:06.309Z"
   },
   {
    "duration": 17,
    "start_time": "2024-06-06T12:31:21.830Z"
   },
   {
    "duration": 4,
    "start_time": "2024-06-06T12:33:40.506Z"
   },
   {
    "duration": 4,
    "start_time": "2024-06-06T12:33:44.862Z"
   },
   {
    "duration": 187,
    "start_time": "2024-06-06T12:33:50.911Z"
   },
   {
    "duration": 5,
    "start_time": "2024-06-06T12:36:45.800Z"
   },
   {
    "duration": 4,
    "start_time": "2024-06-06T12:36:46.462Z"
   },
   {
    "duration": 119,
    "start_time": "2024-06-06T12:36:47.031Z"
   },
   {
    "duration": 4,
    "start_time": "2024-06-06T12:37:34.371Z"
   },
   {
    "duration": 5,
    "start_time": "2024-06-06T12:37:34.978Z"
   },
   {
    "duration": 190,
    "start_time": "2024-06-06T12:37:35.461Z"
   },
   {
    "duration": 224,
    "start_time": "2024-06-06T12:37:36.205Z"
   },
   {
    "duration": 30,
    "start_time": "2024-06-06T12:40:08.896Z"
   },
   {
    "duration": 6,
    "start_time": "2024-06-06T12:40:13.776Z"
   },
   {
    "duration": 8,
    "start_time": "2024-06-06T12:40:14.149Z"
   },
   {
    "duration": 12,
    "start_time": "2024-06-06T12:40:14.457Z"
   },
   {
    "duration": 49,
    "start_time": "2024-06-06T12:44:26.118Z"
   },
   {
    "duration": 1621,
    "start_time": "2024-06-06T12:44:44.338Z"
   },
   {
    "duration": 14,
    "start_time": "2024-06-06T12:44:45.967Z"
   },
   {
    "duration": 6,
    "start_time": "2024-06-06T12:44:45.983Z"
   },
   {
    "duration": 19,
    "start_time": "2024-06-06T12:44:45.994Z"
   },
   {
    "duration": 10,
    "start_time": "2024-06-06T12:44:46.032Z"
   },
   {
    "duration": 16,
    "start_time": "2024-06-06T12:44:46.044Z"
   },
   {
    "duration": 7,
    "start_time": "2024-06-06T12:44:46.063Z"
   },
   {
    "duration": 15,
    "start_time": "2024-06-06T12:44:46.072Z"
   },
   {
    "duration": 66,
    "start_time": "2024-06-06T12:44:46.090Z"
   },
   {
    "duration": 5126,
    "start_time": "2024-06-06T12:44:46.164Z"
   },
   {
    "duration": 4,
    "start_time": "2024-06-06T12:44:51.293Z"
   },
   {
    "duration": 9,
    "start_time": "2024-06-06T12:44:51.301Z"
   },
   {
    "duration": 51,
    "start_time": "2024-06-06T12:44:51.313Z"
   },
   {
    "duration": 16,
    "start_time": "2024-06-06T12:44:51.374Z"
   },
   {
    "duration": 103,
    "start_time": "2024-06-06T12:44:51.393Z"
   },
   {
    "duration": 4,
    "start_time": "2024-06-06T12:44:51.499Z"
   },
   {
    "duration": 30,
    "start_time": "2024-06-06T12:44:51.507Z"
   },
   {
    "duration": 26,
    "start_time": "2024-06-06T12:44:51.541Z"
   },
   {
    "duration": 17,
    "start_time": "2024-06-06T12:44:51.574Z"
   },
   {
    "duration": 5,
    "start_time": "2024-06-06T12:44:51.594Z"
   },
   {
    "duration": 4,
    "start_time": "2024-06-06T12:44:51.602Z"
   },
   {
    "duration": 899,
    "start_time": "2024-06-06T12:44:51.609Z"
   },
   {
    "duration": 0,
    "start_time": "2024-06-06T12:44:52.511Z"
   },
   {
    "duration": 0,
    "start_time": "2024-06-06T12:44:52.513Z"
   },
   {
    "duration": 0,
    "start_time": "2024-06-06T12:44:52.515Z"
   },
   {
    "duration": 0,
    "start_time": "2024-06-06T12:44:52.534Z"
   },
   {
    "duration": 0,
    "start_time": "2024-06-06T12:44:52.538Z"
   },
   {
    "duration": 213,
    "start_time": "2024-06-06T12:44:59.427Z"
   },
   {
    "duration": 317,
    "start_time": "2024-06-06T12:44:59.838Z"
   },
   {
    "duration": 199,
    "start_time": "2024-06-06T12:45:00.419Z"
   },
   {
    "duration": 8,
    "start_time": "2024-06-06T12:45:03.801Z"
   },
   {
    "duration": 5,
    "start_time": "2024-06-06T12:45:05.468Z"
   },
   {
    "duration": 15,
    "start_time": "2024-06-06T12:45:06.088Z"
   },
   {
    "duration": 53,
    "start_time": "2024-06-06T12:45:06.925Z"
   },
   {
    "duration": 6,
    "start_time": "2024-06-06T12:47:40.891Z"
   },
   {
    "duration": 4,
    "start_time": "2024-06-06T12:47:41.563Z"
   },
   {
    "duration": 139,
    "start_time": "2024-06-06T12:47:41.835Z"
   },
   {
    "duration": 61,
    "start_time": "2024-06-06T12:47:42.107Z"
   },
   {
    "duration": 5,
    "start_time": "2024-06-06T12:48:33.970Z"
   },
   {
    "duration": 85,
    "start_time": "2024-06-06T12:48:34.293Z"
   },
   {
    "duration": 41,
    "start_time": "2024-06-06T12:48:34.961Z"
   },
   {
    "duration": 9,
    "start_time": "2024-06-06T12:48:46.650Z"
   },
   {
    "duration": 5,
    "start_time": "2024-06-06T12:48:47.014Z"
   },
   {
    "duration": 26,
    "start_time": "2024-06-06T12:48:47.222Z"
   },
   {
    "duration": 43,
    "start_time": "2024-06-06T12:48:47.610Z"
   },
   {
    "duration": 16,
    "start_time": "2024-06-06T12:50:22.615Z"
   },
   {
    "duration": 13,
    "start_time": "2024-06-06T12:50:43.351Z"
   },
   {
    "duration": 6,
    "start_time": "2024-06-06T12:51:03.599Z"
   },
   {
    "duration": 7,
    "start_time": "2024-06-06T12:51:04.035Z"
   },
   {
    "duration": 15,
    "start_time": "2024-06-06T12:51:04.258Z"
   },
   {
    "duration": 16,
    "start_time": "2024-06-06T12:51:04.453Z"
   },
   {
    "duration": 14,
    "start_time": "2024-06-06T12:54:33.628Z"
   },
   {
    "duration": 4,
    "start_time": "2024-06-06T12:54:34.275Z"
   },
   {
    "duration": 6,
    "start_time": "2024-06-06T12:54:34.658Z"
   },
   {
    "duration": 10,
    "start_time": "2024-06-06T12:54:35.143Z"
   },
   {
    "duration": 34,
    "start_time": "2024-06-06T12:54:44.150Z"
   },
   {
    "duration": 5,
    "start_time": "2024-06-06T12:54:48.246Z"
   },
   {
    "duration": 4,
    "start_time": "2024-06-06T12:54:48.470Z"
   },
   {
    "duration": 5,
    "start_time": "2024-06-06T12:54:48.668Z"
   },
   {
    "duration": 4,
    "start_time": "2024-06-06T12:54:48.863Z"
   },
   {
    "duration": 6,
    "start_time": "2024-06-06T12:54:49.067Z"
   },
   {
    "duration": 4,
    "start_time": "2024-06-06T12:54:49.608Z"
   },
   {
    "duration": 21,
    "start_time": "2024-06-06T12:54:51.536Z"
   },
   {
    "duration": 4,
    "start_time": "2024-06-06T12:54:52.698Z"
   },
   {
    "duration": 5,
    "start_time": "2024-06-06T12:54:53.469Z"
   },
   {
    "duration": 11,
    "start_time": "2024-06-06T12:54:54.038Z"
   },
   {
    "duration": 1564,
    "start_time": "2024-06-06T12:55:08.058Z"
   },
   {
    "duration": 23,
    "start_time": "2024-06-06T12:55:09.626Z"
   },
   {
    "duration": 5,
    "start_time": "2024-06-06T12:55:09.661Z"
   },
   {
    "duration": 23,
    "start_time": "2024-06-06T12:55:09.670Z"
   },
   {
    "duration": 8,
    "start_time": "2024-06-06T12:55:09.696Z"
   },
   {
    "duration": 35,
    "start_time": "2024-06-06T12:55:09.708Z"
   },
   {
    "duration": 7,
    "start_time": "2024-06-06T12:55:09.747Z"
   },
   {
    "duration": 14,
    "start_time": "2024-06-06T12:55:09.766Z"
   },
   {
    "duration": 70,
    "start_time": "2024-06-06T12:55:09.783Z"
   },
   {
    "duration": 4991,
    "start_time": "2024-06-06T12:55:09.866Z"
   },
   {
    "duration": 4,
    "start_time": "2024-06-06T12:55:14.860Z"
   },
   {
    "duration": 6,
    "start_time": "2024-06-06T12:55:14.871Z"
   },
   {
    "duration": 14,
    "start_time": "2024-06-06T12:55:14.881Z"
   },
   {
    "duration": 13,
    "start_time": "2024-06-06T12:55:14.898Z"
   },
   {
    "duration": 98,
    "start_time": "2024-06-06T12:55:14.914Z"
   },
   {
    "duration": 20,
    "start_time": "2024-06-06T12:55:15.015Z"
   },
   {
    "duration": 8,
    "start_time": "2024-06-06T12:55:15.039Z"
   },
   {
    "duration": 14,
    "start_time": "2024-06-06T12:55:15.049Z"
   },
   {
    "duration": 16,
    "start_time": "2024-06-06T12:55:15.066Z"
   },
   {
    "duration": 4,
    "start_time": "2024-06-06T12:55:15.085Z"
   },
   {
    "duration": 4,
    "start_time": "2024-06-06T12:55:15.093Z"
   },
   {
    "duration": 814,
    "start_time": "2024-06-06T12:55:15.133Z"
   },
   {
    "duration": 0,
    "start_time": "2024-06-06T12:55:15.952Z"
   },
   {
    "duration": 0,
    "start_time": "2024-06-06T12:55:15.953Z"
   },
   {
    "duration": 0,
    "start_time": "2024-06-06T12:55:15.956Z"
   },
   {
    "duration": 0,
    "start_time": "2024-06-06T12:55:15.957Z"
   },
   {
    "duration": 0,
    "start_time": "2024-06-06T12:55:15.958Z"
   },
   {
    "duration": 0,
    "start_time": "2024-06-06T12:55:15.960Z"
   },
   {
    "duration": 0,
    "start_time": "2024-06-06T12:55:15.962Z"
   },
   {
    "duration": 0,
    "start_time": "2024-06-06T12:55:15.963Z"
   },
   {
    "duration": 0,
    "start_time": "2024-06-06T12:55:15.965Z"
   },
   {
    "duration": 0,
    "start_time": "2024-06-06T12:55:15.966Z"
   },
   {
    "duration": 0,
    "start_time": "2024-06-06T12:55:15.968Z"
   },
   {
    "duration": 0,
    "start_time": "2024-06-06T12:55:15.970Z"
   },
   {
    "duration": 0,
    "start_time": "2024-06-06T12:55:15.971Z"
   },
   {
    "duration": 0,
    "start_time": "2024-06-06T12:55:15.973Z"
   },
   {
    "duration": 0,
    "start_time": "2024-06-06T12:55:15.976Z"
   },
   {
    "duration": 0,
    "start_time": "2024-06-06T12:55:15.978Z"
   },
   {
    "duration": 0,
    "start_time": "2024-06-06T12:55:15.980Z"
   },
   {
    "duration": 0,
    "start_time": "2024-06-06T12:55:15.982Z"
   },
   {
    "duration": 0,
    "start_time": "2024-06-06T12:55:15.983Z"
   },
   {
    "duration": 0,
    "start_time": "2024-06-06T12:55:15.985Z"
   },
   {
    "duration": 200,
    "start_time": "2024-06-06T12:55:26.119Z"
   },
   {
    "duration": 308,
    "start_time": "2024-06-06T12:55:26.998Z"
   },
   {
    "duration": 6,
    "start_time": "2024-06-06T12:55:40.510Z"
   },
   {
    "duration": 4,
    "start_time": "2024-06-06T12:55:41.089Z"
   },
   {
    "duration": 16,
    "start_time": "2024-06-06T12:55:41.405Z"
   },
   {
    "duration": 24,
    "start_time": "2024-06-06T12:55:41.639Z"
   },
   {
    "duration": 5,
    "start_time": "2024-06-06T12:55:43.083Z"
   },
   {
    "duration": 4,
    "start_time": "2024-06-06T12:55:43.461Z"
   },
   {
    "duration": 5,
    "start_time": "2024-06-06T12:55:43.622Z"
   },
   {
    "duration": 4,
    "start_time": "2024-06-06T12:55:43.819Z"
   },
   {
    "duration": 9,
    "start_time": "2024-06-06T12:55:43.997Z"
   },
   {
    "duration": 3,
    "start_time": "2024-06-06T12:55:44.391Z"
   },
   {
    "duration": 4,
    "start_time": "2024-06-06T12:55:44.970Z"
   },
   {
    "duration": 5,
    "start_time": "2024-06-06T12:55:45.402Z"
   },
   {
    "duration": 5,
    "start_time": "2024-06-06T12:55:45.811Z"
   },
   {
    "duration": 7,
    "start_time": "2024-06-06T12:55:45.994Z"
   },
   {
    "duration": 12,
    "start_time": "2024-06-06T12:55:48.691Z"
   },
   {
    "duration": 4,
    "start_time": "2024-06-06T12:55:49.080Z"
   },
   {
    "duration": 8,
    "start_time": "2024-06-06T12:55:49.428Z"
   },
   {
    "duration": 7,
    "start_time": "2024-06-06T12:55:49.469Z"
   },
   {
    "duration": 132,
    "start_time": "2024-06-06T12:56:17.722Z"
   },
   {
    "duration": 5765,
    "start_time": "2024-06-07T11:24:22.669Z"
   },
   {
    "duration": 15,
    "start_time": "2024-06-07T11:24:28.438Z"
   },
   {
    "duration": 6,
    "start_time": "2024-06-07T11:24:28.457Z"
   },
   {
    "duration": 43,
    "start_time": "2024-06-07T11:24:28.466Z"
   },
   {
    "duration": 9,
    "start_time": "2024-06-07T11:24:28.514Z"
   },
   {
    "duration": 18,
    "start_time": "2024-06-07T11:24:28.527Z"
   },
   {
    "duration": 44,
    "start_time": "2024-06-07T11:24:28.550Z"
   },
   {
    "duration": 18,
    "start_time": "2024-06-07T11:24:28.598Z"
   },
   {
    "duration": 33,
    "start_time": "2024-06-07T11:24:28.619Z"
   },
   {
    "duration": 5370,
    "start_time": "2024-06-07T11:24:28.655Z"
   },
   {
    "duration": 6,
    "start_time": "2024-06-07T11:24:34.030Z"
   },
   {
    "duration": 7,
    "start_time": "2024-06-07T11:24:34.039Z"
   },
   {
    "duration": 42,
    "start_time": "2024-06-07T11:24:34.049Z"
   },
   {
    "duration": 15,
    "start_time": "2024-06-07T11:24:34.098Z"
   },
   {
    "duration": 140,
    "start_time": "2024-06-07T11:24:34.116Z"
   },
   {
    "duration": 1101,
    "start_time": "2024-06-07T11:24:39.962Z"
   },
   {
    "duration": 0,
    "start_time": "2024-06-07T11:24:41.066Z"
   },
   {
    "duration": 4,
    "start_time": "2024-06-07T11:25:58.812Z"
   },
   {
    "duration": 6,
    "start_time": "2024-06-07T11:25:59.618Z"
   },
   {
    "duration": 14,
    "start_time": "2024-06-07T11:26:05.048Z"
   },
   {
    "duration": 24,
    "start_time": "2024-06-07T11:26:06.742Z"
   },
   {
    "duration": 5,
    "start_time": "2024-06-07T11:26:07.892Z"
   },
   {
    "duration": 4,
    "start_time": "2024-06-07T11:26:15.336Z"
   },
   {
    "duration": 947,
    "start_time": "2024-06-07T11:26:16.229Z"
   },
   {
    "duration": 1020,
    "start_time": "2024-06-07T11:26:26.405Z"
   },
   {
    "duration": 463,
    "start_time": "2024-06-07T11:26:27.429Z"
   },
   {
    "duration": 92,
    "start_time": "2024-06-07T11:26:40.999Z"
   },
   {
    "duration": 7,
    "start_time": "2024-06-07T11:56:29.859Z"
   },
   {
    "duration": 6,
    "start_time": "2024-06-07T11:56:30.953Z"
   },
   {
    "duration": 13,
    "start_time": "2024-06-07T11:56:31.512Z"
   },
   {
    "duration": 36,
    "start_time": "2024-06-07T11:56:32.955Z"
   },
   {
    "duration": 16,
    "start_time": "2024-06-07T11:56:58.333Z"
   },
   {
    "duration": 1585,
    "start_time": "2024-06-07T12:00:14.631Z"
   },
   {
    "duration": 14,
    "start_time": "2024-06-07T12:00:16.220Z"
   },
   {
    "duration": 5,
    "start_time": "2024-06-07T12:00:16.238Z"
   },
   {
    "duration": 48,
    "start_time": "2024-06-07T12:00:16.247Z"
   },
   {
    "duration": 9,
    "start_time": "2024-06-07T12:00:16.300Z"
   },
   {
    "duration": 15,
    "start_time": "2024-06-07T12:00:16.313Z"
   },
   {
    "duration": 7,
    "start_time": "2024-06-07T12:00:16.332Z"
   },
   {
    "duration": 63,
    "start_time": "2024-06-07T12:00:16.343Z"
   },
   {
    "duration": 33,
    "start_time": "2024-06-07T12:00:16.410Z"
   },
   {
    "duration": 5193,
    "start_time": "2024-06-07T12:00:16.446Z"
   },
   {
    "duration": 4,
    "start_time": "2024-06-07T12:00:21.642Z"
   },
   {
    "duration": 11,
    "start_time": "2024-06-07T12:00:21.650Z"
   },
   {
    "duration": 32,
    "start_time": "2024-06-07T12:00:21.664Z"
   },
   {
    "duration": 14,
    "start_time": "2024-06-07T12:00:21.703Z"
   },
   {
    "duration": 111,
    "start_time": "2024-06-07T12:00:21.720Z"
   },
   {
    "duration": 5,
    "start_time": "2024-06-07T12:00:21.834Z"
   },
   {
    "duration": 7,
    "start_time": "2024-06-07T12:00:21.843Z"
   },
   {
    "duration": 39,
    "start_time": "2024-06-07T12:00:21.853Z"
   },
   {
    "duration": 18,
    "start_time": "2024-06-07T12:00:21.895Z"
   },
   {
    "duration": 5,
    "start_time": "2024-06-07T12:00:21.915Z"
   },
   {
    "duration": 5,
    "start_time": "2024-06-07T12:00:21.923Z"
   },
   {
    "duration": 1095,
    "start_time": "2024-06-07T12:00:21.931Z"
   },
   {
    "duration": 1195,
    "start_time": "2024-06-07T12:00:23.029Z"
   },
   {
    "duration": 106,
    "start_time": "2024-06-07T12:00:24.228Z"
   },
   {
    "duration": 8,
    "start_time": "2024-06-07T12:00:24.338Z"
   },
   {
    "duration": 10,
    "start_time": "2024-06-07T12:00:24.349Z"
   },
   {
    "duration": 35,
    "start_time": "2024-06-07T12:00:24.366Z"
   },
   {
    "duration": 91,
    "start_time": "2024-06-07T12:00:24.403Z"
   },
   {
    "duration": 5,
    "start_time": "2024-06-07T12:00:24.497Z"
   },
   {
    "duration": 4,
    "start_time": "2024-06-07T12:00:24.505Z"
   },
   {
    "duration": 87,
    "start_time": "2024-06-07T12:00:24.512Z"
   },
   {
    "duration": 14,
    "start_time": "2024-06-07T12:00:24.601Z"
   },
   {
    "duration": 7,
    "start_time": "2024-06-07T12:00:24.689Z"
   },
   {
    "duration": 3,
    "start_time": "2024-06-07T12:00:24.700Z"
   },
   {
    "duration": 8,
    "start_time": "2024-06-07T12:00:24.706Z"
   },
   {
    "duration": 4,
    "start_time": "2024-06-07T12:00:24.793Z"
   },
   {
    "duration": 6,
    "start_time": "2024-06-07T12:00:24.802Z"
   },
   {
    "duration": 8,
    "start_time": "2024-06-07T12:00:24.811Z"
   },
   {
    "duration": 73,
    "start_time": "2024-06-07T12:00:24.822Z"
   },
   {
    "duration": 5,
    "start_time": "2024-06-07T12:00:24.898Z"
   },
   {
    "duration": 82,
    "start_time": "2024-06-07T12:00:24.913Z"
   },
   {
    "duration": 91,
    "start_time": "2024-06-07T12:00:24.998Z"
   }
  ],
  "kernelspec": {
   "display_name": "Python 3 (ipykernel)",
   "language": "python",
   "name": "python3"
  },
  "language_info": {
   "codemirror_mode": {
    "name": "ipython",
    "version": 3
   },
   "file_extension": ".py",
   "mimetype": "text/x-python",
   "name": "python",
   "nbconvert_exporter": "python",
   "pygments_lexer": "ipython3",
   "version": "3.11.7"
  },
  "toc": {
   "base_numbering": 1,
   "nav_menu": {},
   "number_sections": true,
   "sideBar": true,
   "skip_h1_title": true,
   "title_cell": "Table of Contents",
   "title_sidebar": "Contents",
   "toc_cell": false,
   "toc_position": {
    "height": "calc(100% - 180px)",
    "left": "10px",
    "top": "150px",
    "width": "293px"
   },
   "toc_section_display": true,
   "toc_window_display": true
  }
 },
 "nbformat": 4,
 "nbformat_minor": 4
}
